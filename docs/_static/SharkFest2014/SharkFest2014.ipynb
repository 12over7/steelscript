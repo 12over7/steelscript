{
 "metadata": {
  "celltoolbar": "Slideshow",
  "name": "",
  "signature": "sha256:0073a018dfe14cff3d3437503896a432904fd1cdf818f9b9dc4ba5b53887be92"
 },
 "nbformat": 3,
 "nbformat_minor": 0,
 "worksheets": [
  {
   "cells": [
    {
     "cell_type": "markdown",
     "metadata": {
      "internals": {
       "slide_helper": "subslide_end",
       "slide_type": "subslide"
      },
      "slide_helper": "slide_end",
      "slideshow": {
       "slide_type": "slide"
      }
     },
     "source": [
      "SharkFest 2014\n",
      "==============\n",
      "\n",
      "Packet Analysis with SteelScript for Python \n",
      "-------------------------------------------\n",
      "\n",
      "**Christopher J. White**<br>\n",
      "cwhite@riverbed.com<br>\n",
      "Riverbed Technology"
     ]
    },
    {
     "cell_type": "markdown",
     "metadata": {
      "internals": {
       "slide_helper": "subslide_end",
       "slide_type": "subslide"
      },
      "slide_helper": "slide_end",
      "slideshow": {
       "slide_type": "slide"
      }
     },
     "source": [
      "Overview\n",
      "========\n",
      "\n",
      "* Visualizing with SteelScript Application Framework\n",
      "* Tools in my toolbox\n",
      "* Python Pandas\n",
      "* PCAP Analysis with SteelScript\n"
     ]
    },
    {
     "cell_type": "markdown",
     "metadata": {
      "slideshow": {
       "slide_type": "slide"
      }
     },
     "source": [
      "SteelScript Application Framework\n",
      "=================================\n",
      "\n",
      "PCAP File: `/ws/sharkfest2014/oneday.pcap`\n",
      "\n",
      "* `ip.len` field over time\n",
      "* 95th and 80th percential\n",
      "* Exponential Weighted Moving Average (EWMA)\n",
      "\n",
      "<img src=\"IPBytesOverTime.png\"></img>"
     ]
    },
    {
     "cell_type": "markdown",
     "metadata": {
      "internals": {
       "slide_helper": "subslide_end",
       "slide_type": "subslide"
      },
      "slide_helper": "slide_end",
      "slideshow": {
       "slide_type": "slide"
      }
     },
     "source": [
      "Tools: IPython\n",
      "==============\n",
      "\n",
      "* Powerful interactive shells (terminal and Qt-based).\n",
      "* A browser-based notebook with support for code, text, mathematical expressions, inline plots and other rich media.\n",
      "* Support for interactive data visualization and use of GUI toolkits.\n",
      "* Flexible, embeddable interpreters to load into your own projects.\n",
      "* Easy to use, high performance tools for parallel computing.\n",
      "\n",
      "Installation\n",
      "------------\n",
      "\n",
      "    > pip install ipython"
     ]
    },
    {
     "cell_type": "markdown",
     "metadata": {
      "internals": {
       "slide_helper": "subslide_end",
       "slide_type": "subslide"
      },
      "slide_helper": "slide_end",
      "slideshow": {
       "slide_type": "subslide"
      }
     },
     "source": [
      "Tools: pandas - Python Data Analysis Library\n",
      "=====================================\n",
      "\n",
      "pandas is an open source, BSD-licensed library providing high-performance, easy-to-use data structures and data analysis tools for the Python programming language \n",
      "\n",
      "  * **Series** - array of data with an optional index\n",
      "  * **DataFrame** - 2D array of data hierarchical row and column indexing\n",
      "  \n",
      "Installation\n",
      "------------\n",
      "\n",
      "Linux / Mac with dev tools?\n",
      "\n",
      "    > pip install pandas\n",
      "\n",
      "Otherwise see [pandas.pydata.org](http://pandas.pydata.org/)"
     ]
    },
    {
     "cell_type": "markdown",
     "metadata": {
      "slideshow": {
       "slide_type": "subslide"
      }
     },
     "source": [
      "Tools: matlibplot - Python Plotting\n",
      "===================================\n",
      "matlibplot hooks in with IPython notebook to provide in browser graphs."
     ]
    },
    {
     "cell_type": "code",
     "collapsed": false,
     "input": [
      "import numpy as np\n",
      "import matplotlib.pyplot as plt\n",
      "\n",
      "x = np.linspace(0, 2)\n",
      "y = np.sin(4 * np.pi * x) * np.exp(-5 * x)\n",
      "\n",
      "plt.fill(x, y, 'r')\n",
      "plt.grid(True)\n",
      "plt.show()"
     ],
     "language": "python",
     "metadata": {},
     "outputs": [
      {
       "metadata": {},
       "output_type": "display_data",
       "png": "[encoded data removed]",
       "text": [
        "<matplotlib.figure.Figure at 0x10ff29190>"
       ]
      }
     ],
     "prompt_number": 1
    },
    {
     "cell_type": "markdown",
     "metadata": {
      "slideshow": {
       "slide_type": "subslide"
      }
     },
     "source": [
      "Tools: SteelScript Application Framework\n",
      "========================================\n",
      "\n",
      "* Web front end for simple user interface\n",
      "* Design custom reports\n",
      "    * mix and match widgets and data\n",
      "    * define custom criteria\n",
      "* Custom analysis via Python hooks and Python Pandas\n",
      "    * compute statistics, pivot tables, merge, sort, resample timeseries\n",
      "* Plugin architecture makes it easy to share modules\n",
      "   \n",
      "<img src=\"appfwk-arch.png\" align=\"middle\" border=\"1\"></img>"
     ]
    },
    {
     "cell_type": "markdown",
     "metadata": {
      "slideshow": {
       "slide_type": "slide"
      }
     },
     "source": [
      "pandas\n",
      "======\n",
      "\n",
      "Primary object types:\n",
      "\n",
      "* **Series** - 1 dimensional array of element\n",
      "* **DataFrames** - 2 dimensional array of elements\n",
      "\n",
      "Data is stored is compact binary form for efficiency of operation.\n",
      "\n",
      "Supports both row and column indexing by name."
     ]
    },
    {
     "cell_type": "markdown",
     "metadata": {
      "internals": {
       "frag_helper": "fragment_end",
       "frag_number": 6,
       "slide_type": "subslide"
      },
      "slideshow": {
       "slide_type": "slide"
      }
     },
     "source": [
      "pandas: Series\n",
      "==============\n",
      "\n",
      "A **Series** is similar to a standard Python **list**, however much more efficient in memory and computation."
     ]
    },
    {
     "cell_type": "code",
     "collapsed": false,
     "input": [
      "import pandas, numpy\n",
      "s = pandas.Series([10, 23, 19, 15, 56, 15, 41])\n",
      "print type(s)"
     ],
     "language": "python",
     "metadata": {
      "internals": {
       "frag_helper": "fragment_end",
       "frag_number": 6
      },
      "slideshow": {
       "slide_type": "-"
      }
     },
     "outputs": [
      {
       "output_type": "stream",
       "stream": "stdout",
       "text": [
        "<class 'pandas.core.series.Series'>\n"
       ]
      }
     ],
     "prompt_number": 2
    },
    {
     "cell_type": "code",
     "collapsed": false,
     "input": [
      "s"
     ],
     "language": "python",
     "metadata": {
      "internals": {
       "frag_helper": "fragment_end",
       "frag_number": 6
      },
      "slideshow": {
       "slide_type": "-"
      }
     },
     "outputs": [
      {
       "metadata": {},
       "output_type": "pyout",
       "prompt_number": 3,
       "text": [
        "0    10\n",
        "1    23\n",
        "2    19\n",
        "3    15\n",
        "4    56\n",
        "5    15\n",
        "6    41\n",
        "dtype: int64"
       ]
      }
     ],
     "prompt_number": 3
    },
    {
     "cell_type": "code",
     "collapsed": false,
     "input": [
      "s.sum(), s.min(), s.max(), s.mean()"
     ],
     "language": "python",
     "metadata": {
      "internals": {
       "frag_helper": "fragment_end",
       "frag_number": 6,
       "slide_helper": "subslide_end"
      },
      "slide_helper": "slide_end",
      "slideshow": {
       "slide_type": "-"
      }
     },
     "outputs": [
      {
       "metadata": {},
       "output_type": "pyout",
       "prompt_number": 4,
       "text": [
        "(179, 10, 56, 25.571428571428573)"
       ]
      }
     ],
     "prompt_number": 4
    },
    {
     "cell_type": "markdown",
     "metadata": {
      "slideshow": {
       "slide_type": "subslide"
      }
     },
     "source": [
      "Consider processing **1,000,000** random entries in a standard list:"
     ]
    },
    {
     "cell_type": "code",
     "collapsed": false,
     "input": [
      "%%time\n",
      "s = list(numpy.random.randn(1000000))"
     ],
     "language": "python",
     "metadata": {
      "slideshow": {
       "slide_type": "fragment"
      }
     },
     "outputs": [
      {
       "output_type": "stream",
       "stream": "stdout",
       "text": [
        "CPU times: user 147 ms, sys: 19.1 ms, total: 166 ms\n",
        "Wall time: 166 ms\n"
       ]
      }
     ],
     "prompt_number": 5
    },
    {
     "cell_type": "code",
     "collapsed": false,
     "input": [
      "%%time\n",
      "print min(s), max(s), sum(s)"
     ],
     "language": "python",
     "metadata": {
      "slideshow": {
       "slide_type": "fragment"
      }
     },
     "outputs": [
      {
       "output_type": "stream",
       "stream": "stdout",
       "text": [
        "-5.15466016548 4.83339730438 "
       ]
      },
      {
       "output_type": "stream",
       "stream": "stdout",
       "text": [
        "1070.4119682\n",
        "CPU times: user 384 ms, sys: 966 \u00b5s, total: 385 ms\n",
        "Wall time: 384 ms\n"
       ]
      }
     ],
     "prompt_number": 6
    },
    {
     "cell_type": "markdown",
     "metadata": {
      "slideshow": {
       "slide_type": "fragment"
      }
     },
     "source": [
      "Now, consider processing **1,000,000** random entries in a pandas **Series**:"
     ]
    },
    {
     "cell_type": "code",
     "collapsed": false,
     "input": [
      "%%time\n",
      "s = pandas.Series(numpy.random.randn(1000000))\n",
      "len(s)"
     ],
     "language": "python",
     "metadata": {
      "slideshow": {
       "slide_type": "fragment"
      }
     },
     "outputs": [
      {
       "output_type": "stream",
       "stream": "stdout",
       "text": [
        "CPU times: user 153 ms, sys: 12.6 ms, total: 166 ms\n",
        "Wall time: 166 ms\n"
       ]
      }
     ],
     "prompt_number": 7
    },
    {
     "cell_type": "code",
     "collapsed": false,
     "input": [
      "%%time\n",
      "print s.min(), s.max(), s.sum()"
     ],
     "language": "python",
     "metadata": {
      "slideshow": {
       "slide_type": "fragment"
      }
     },
     "outputs": [
      {
       "output_type": "stream",
       "stream": "stdout",
       "text": [
        "-4.88164961037 4.76370359345 1151.10605833\n",
        "CPU times: user 19.6 ms, sys: 5.19 ms, total: 24.8 ms\n",
        "Wall time: 24.1 ms\n"
       ]
      }
     ],
     "prompt_number": 8
    },
    {
     "cell_type": "code",
     "collapsed": false,
     "input": [
      "del s"
     ],
     "language": "python",
     "metadata": {
      "slideshow": {
       "slide_type": "skip"
      }
     },
     "outputs": [],
     "prompt_number": 9
    },
    {
     "cell_type": "markdown",
     "metadata": {
      "internals": {
       "slide_type": "subslide"
      },
      "slideshow": {
       "slide_type": "slide"
      }
     },
     "source": [
      "pandas: DataFrame\n",
      "=================\n",
      "\n",
      "A DataFrame is typically loaded from a file, but my be created from a list of lists:"
     ]
    },
    {
     "cell_type": "code",
     "collapsed": false,
     "input": [
      "import pandas\n",
      "df = pandas.DataFrame(\n",
      "    [['Boston', '10.1.1.1', 10, 2356, 0.100],\n",
      "     ['Boston', '10.1.1.2', 23, 16600, 0.112],\n",
      "     ['Boston', '10.1.1.15', 19, 22600, 0.085],\n",
      "     ['SanFran', '10.38.5.1', 15, 10550, 0.030],\n",
      "     ['SanFran', '10.38.8.2', 56, 35000, 0.020],\n",
      "     ['London', '192.168.4.6', 15, 3400, 0.130],\n",
      "     ['London', '192.168.5.72', 41, 55000, 0.120]],\n",
      "     columns = ['location', 'ip', 'pkts', 'bytes', 'rtt'])"
     ],
     "language": "python",
     "metadata": {
      "internals": {},
      "slideshow": {
       "slide_type": "-"
      }
     },
     "outputs": [],
     "prompt_number": 10
    },
    {
     "cell_type": "markdown",
     "metadata": {
      "internals": {
       "frag_helper": "fragment_end",
       "frag_number": 6
      },
      "slideshow": {
       "slide_type": "fragment"
      }
     },
     "source": [
      "Each column's data type is automatically detected based on contents."
     ]
    },
    {
     "cell_type": "code",
     "collapsed": false,
     "input": [
      "df.dtypes"
     ],
     "language": "python",
     "metadata": {
      "internals": {
       "frag_helper": "fragment_end",
       "frag_number": 6,
       "slide_helper": "subslide_end"
      },
      "slide_helper": "subslide_end",
      "slideshow": {
       "slide_type": "fragment"
      }
     },
     "outputs": [
      {
       "metadata": {},
       "output_type": "pyout",
       "prompt_number": 11,
       "text": [
        "location     object\n",
        "ip           object\n",
        "pkts          int64\n",
        "bytes         int64\n",
        "rtt         float64\n",
        "dtype: object"
       ]
      }
     ],
     "prompt_number": 11
    },
    {
     "cell_type": "markdown",
     "metadata": {
      "internals": {
       "frag_helper": "fragment_end",
       "frag_number": 6,
       "slide_type": "subslide"
      },
      "slideshow": {
       "slide_type": "subslide"
      }
     },
     "source": [
      "IPython has special support for displaying **DataFrames**"
     ]
    },
    {
     "cell_type": "code",
     "collapsed": false,
     "input": [
      "df"
     ],
     "language": "python",
     "metadata": {
      "internals": {
       "frag_helper": "fragment_end",
       "frag_number": 6,
       "slide_helper": "subslide_end"
      },
      "slide_helper": "slide_end",
      "slideshow": {
       "slide_type": "-"
      }
     },
     "outputs": [
      {
       "html": [
        "<div style=\"max-height:1000px;max-width:1500px;overflow:auto;\">\n",
        "<table border=\"1\" class=\"dataframe\">\n",
        "  <thead>\n",
        "    <tr style=\"text-align: right;\">\n",
        "      <th></th>\n",
        "      <th>location</th>\n",
        "      <th>ip</th>\n",
        "      <th>pkts</th>\n",
        "      <th>bytes</th>\n",
        "      <th>rtt</th>\n",
        "    </tr>\n",
        "  </thead>\n",
        "  <tbody>\n",
        "    <tr>\n",
        "      <th>0</th>\n",
        "      <td>  Boston</td>\n",
        "      <td>     10.1.1.1</td>\n",
        "      <td> 10</td>\n",
        "      <td>  2356</td>\n",
        "      <td> 0.100</td>\n",
        "    </tr>\n",
        "    <tr>\n",
        "      <th>1</th>\n",
        "      <td>  Boston</td>\n",
        "      <td>     10.1.1.2</td>\n",
        "      <td> 23</td>\n",
        "      <td> 16600</td>\n",
        "      <td> 0.112</td>\n",
        "    </tr>\n",
        "    <tr>\n",
        "      <th>2</th>\n",
        "      <td>  Boston</td>\n",
        "      <td>    10.1.1.15</td>\n",
        "      <td> 19</td>\n",
        "      <td> 22600</td>\n",
        "      <td> 0.085</td>\n",
        "    </tr>\n",
        "    <tr>\n",
        "      <th>3</th>\n",
        "      <td> SanFran</td>\n",
        "      <td>    10.38.5.1</td>\n",
        "      <td> 15</td>\n",
        "      <td> 10550</td>\n",
        "      <td> 0.030</td>\n",
        "    </tr>\n",
        "    <tr>\n",
        "      <th>4</th>\n",
        "      <td> SanFran</td>\n",
        "      <td>    10.38.8.2</td>\n",
        "      <td> 56</td>\n",
        "      <td> 35000</td>\n",
        "      <td> 0.020</td>\n",
        "    </tr>\n",
        "    <tr>\n",
        "      <th>5</th>\n",
        "      <td>  London</td>\n",
        "      <td>  192.168.4.6</td>\n",
        "      <td> 15</td>\n",
        "      <td>  3400</td>\n",
        "      <td> 0.130</td>\n",
        "    </tr>\n",
        "    <tr>\n",
        "      <th>6</th>\n",
        "      <td>  London</td>\n",
        "      <td> 192.168.5.72</td>\n",
        "      <td> 41</td>\n",
        "      <td> 55000</td>\n",
        "      <td> 0.120</td>\n",
        "    </tr>\n",
        "  </tbody>\n",
        "</table>\n",
        "<p>7 rows \u00d7 5 columns</p>\n",
        "</div>"
       ],
       "metadata": {},
       "output_type": "pyout",
       "prompt_number": 12,
       "text": [
        "  location            ip  pkts  bytes    rtt\n",
        "0   Boston      10.1.1.1    10   2356  0.100\n",
        "1   Boston      10.1.1.2    23  16600  0.112\n",
        "2   Boston     10.1.1.15    19  22600  0.085\n",
        "3  SanFran     10.38.5.1    15  10550  0.030\n",
        "4  SanFran     10.38.8.2    56  35000  0.020\n",
        "5   London   192.168.4.6    15   3400  0.130\n",
        "6   London  192.168.5.72    41  55000  0.120\n",
        "\n",
        "[7 rows x 5 columns]"
       ]
      }
     ],
     "prompt_number": 12
    },
    {
     "cell_type": "markdown",
     "metadata": {
      "internals": {
       "frag_helper": "fragment_end",
       "frag_number": 6,
       "slide_type": "subslide"
      },
      "slideshow": {
       "slide_type": "slide"
      }
     },
     "source": [
      "pandas: DataFrame operations\n",
      "============================\n",
      "The DataFrame supports a number of operations directly"
     ]
    },
    {
     "cell_type": "code",
     "collapsed": false,
     "input": [
      "df.mean()"
     ],
     "language": "python",
     "metadata": {
      "internals": {
       "frag_helper": "fragment_end",
       "frag_number": 6
      },
      "slideshow": {
       "slide_type": "-"
      }
     },
     "outputs": [
      {
       "metadata": {},
       "output_type": "pyout",
       "prompt_number": 13,
       "text": [
        "pkts        25.571429\n",
        "bytes    20786.571429\n",
        "rtt          0.085286\n",
        "dtype: float64"
       ]
      }
     ],
     "prompt_number": 13
    },
    {
     "cell_type": "markdown",
     "metadata": {
      "internals": {
       "frag_helper": "fragment_end",
       "frag_number": 6
      },
      "slideshow": {
       "slide_type": "-"
      }
     },
     "source": [
      "Notice that `location` and `ip` are string columns, thus there is no operation 'mean' for such columns."
     ]
    },
    {
     "cell_type": "code",
     "collapsed": false,
     "input": [
      "df.sum()"
     ],
     "language": "python",
     "metadata": {
      "internals": {
       "frag_helper": "fragment_end",
       "frag_number": 6
      },
      "slideshow": {
       "slide_type": "fragment"
      }
     },
     "outputs": [
      {
       "metadata": {},
       "output_type": "pyout",
       "prompt_number": 14,
       "text": [
        "location         BostonBostonBostonSanFranSanFranLondonLondon\n",
        "ip          10.1.1.110.1.1.210.1.1.1510.38.5.110.38.8.2192...\n",
        "pkts                                                      179\n",
        "bytes                                                  145506\n",
        "rtt                                                     0.597\n",
        "dtype: object"
       ]
      }
     ],
     "prompt_number": 14
    },
    {
     "cell_type": "markdown",
     "metadata": {
      "internals": {
       "frag_helper": "fragment_end",
       "frag_number": 6,
       "slide_helper": "subslide_end"
      },
      "slide_helper": "slide_end",
      "slideshow": {
       "slide_type": "fragment"
      }
     },
     "source": [
      "In the case of sum(), it is possible to add strings, so `location` and `ip` are included in the results.\n",
      "*(Be careful, on large data sets this can backfire!)*"
     ]
    },
    {
     "cell_type": "markdown",
     "metadata": {
      "slideshow": {
       "slide_type": "slide"
      }
     },
     "source": [
      "pandas: Selecting a Column\n",
      "==========================\n",
      "Each column of data in a **DataFrame** can be extracted by the standard indexing operator:\n",
      "\n",
      "    df[_colname_]\n",
      "    \n",
      "The result is a **Series**."
     ]
    },
    {
     "cell_type": "code",
     "collapsed": false,
     "input": [
      "df['location']"
     ],
     "language": "python",
     "metadata": {
      "slideshow": {
       "slide_type": "fragment"
      }
     },
     "outputs": [
      {
       "metadata": {},
       "output_type": "pyout",
       "prompt_number": 15,
       "text": [
        "0     Boston\n",
        "1     Boston\n",
        "2     Boston\n",
        "3    SanFran\n",
        "4    SanFran\n",
        "5     London\n",
        "6     London\n",
        "Name: location, dtype: object"
       ]
      }
     ],
     "prompt_number": 15
    },
    {
     "cell_type": "code",
     "collapsed": false,
     "input": [
      "df['pkts']"
     ],
     "language": "python",
     "metadata": {
      "slideshow": {
       "slide_type": "fragment"
      }
     },
     "outputs": [
      {
       "metadata": {},
       "output_type": "pyout",
       "prompt_number": 16,
       "text": [
        "0    10\n",
        "1    23\n",
        "2    19\n",
        "3    15\n",
        "4    56\n",
        "5    15\n",
        "6    41\n",
        "Name: pkts, dtype: int64"
       ]
      }
     ],
     "prompt_number": 16
    },
    {
     "cell_type": "markdown",
     "metadata": {
      "internals": {
       "frag_helper": "fragment_end",
       "frag_number": 6,
       "slide_type": "subslide"
      },
      "slideshow": {
       "slide_type": "slide"
      }
     },
     "source": [
      "pandas: Selecting Rows\n",
      "======================\n",
      "Selecting a subset of rows based by index works just like array slicing:\n",
      "\n",
      "    df[_start_:_end_]\n",
      "    \n",
      "Note that the `:` is always required, but `<start>` and `<end>` are optional.  This will return all rows with an index greater than or equal to `<start>`, up to but not including `<end>`"
     ]
    },
    {
     "cell_type": "code",
     "collapsed": false,
     "input": [
      "df[:2]"
     ],
     "language": "python",
     "metadata": {
      "internals": {
       "frag_helper": "fragment_end",
       "frag_number": 6
      },
      "slideshow": {
       "slide_type": "fragment"
      }
     },
     "outputs": [
      {
       "html": [
        "<div style=\"max-height:1000px;max-width:1500px;overflow:auto;\">\n",
        "<table border=\"1\" class=\"dataframe\">\n",
        "  <thead>\n",
        "    <tr style=\"text-align: right;\">\n",
        "      <th></th>\n",
        "      <th>location</th>\n",
        "      <th>ip</th>\n",
        "      <th>pkts</th>\n",
        "      <th>bytes</th>\n",
        "      <th>rtt</th>\n",
        "    </tr>\n",
        "  </thead>\n",
        "  <tbody>\n",
        "    <tr>\n",
        "      <th>0</th>\n",
        "      <td> Boston</td>\n",
        "      <td> 10.1.1.1</td>\n",
        "      <td> 10</td>\n",
        "      <td>  2356</td>\n",
        "      <td> 0.100</td>\n",
        "    </tr>\n",
        "    <tr>\n",
        "      <th>1</th>\n",
        "      <td> Boston</td>\n",
        "      <td> 10.1.1.2</td>\n",
        "      <td> 23</td>\n",
        "      <td> 16600</td>\n",
        "      <td> 0.112</td>\n",
        "    </tr>\n",
        "  </tbody>\n",
        "</table>\n",
        "<p>2 rows \u00d7 5 columns</p>\n",
        "</div>"
       ],
       "metadata": {},
       "output_type": "pyout",
       "prompt_number": 17,
       "text": [
        "  location        ip  pkts  bytes    rtt\n",
        "0   Boston  10.1.1.1    10   2356  0.100\n",
        "1   Boston  10.1.1.2    23  16600  0.112\n",
        "\n",
        "[2 rows x 5 columns]"
       ]
      }
     ],
     "prompt_number": 17
    },
    {
     "cell_type": "code",
     "collapsed": false,
     "input": [
      "df[2:4]"
     ],
     "language": "python",
     "metadata": {
      "internals": {
       "frag_helper": "fragment_end",
       "frag_number": 6,
       "slide_helper": "subslide_end"
      },
      "slide_helper": "slide_end",
      "slideshow": {
       "slide_type": "fragment"
      }
     },
     "outputs": [
      {
       "html": [
        "<div style=\"max-height:1000px;max-width:1500px;overflow:auto;\">\n",
        "<table border=\"1\" class=\"dataframe\">\n",
        "  <thead>\n",
        "    <tr style=\"text-align: right;\">\n",
        "      <th></th>\n",
        "      <th>location</th>\n",
        "      <th>ip</th>\n",
        "      <th>pkts</th>\n",
        "      <th>bytes</th>\n",
        "      <th>rtt</th>\n",
        "    </tr>\n",
        "  </thead>\n",
        "  <tbody>\n",
        "    <tr>\n",
        "      <th>2</th>\n",
        "      <td>  Boston</td>\n",
        "      <td> 10.1.1.15</td>\n",
        "      <td> 19</td>\n",
        "      <td> 22600</td>\n",
        "      <td> 0.085</td>\n",
        "    </tr>\n",
        "    <tr>\n",
        "      <th>3</th>\n",
        "      <td> SanFran</td>\n",
        "      <td> 10.38.5.1</td>\n",
        "      <td> 15</td>\n",
        "      <td> 10550</td>\n",
        "      <td> 0.030</td>\n",
        "    </tr>\n",
        "  </tbody>\n",
        "</table>\n",
        "<p>2 rows \u00d7 5 columns</p>\n",
        "</div>"
       ],
       "metadata": {},
       "output_type": "pyout",
       "prompt_number": 18,
       "text": [
        "  location         ip  pkts  bytes    rtt\n",
        "2   Boston  10.1.1.15    19  22600  0.085\n",
        "3  SanFran  10.38.5.1    15  10550  0.030\n",
        "\n",
        "[2 rows x 5 columns]"
       ]
      }
     ],
     "prompt_number": 18
    },
    {
     "cell_type": "markdown",
     "metadata": {
      "internals": {
       "frag_helper": "fragment_end",
       "frag_number": 6,
       "slide_type": "subslide"
      },
      "slideshow": {
       "slide_type": "slide"
      }
     },
     "source": [
      "pandas: Filtering Rows\n",
      "======================\n",
      "\n",
      "DataFrame rows can be filtered using boolean expressions\n",
      "\n",
      "    df[_boolean_expression_]"
     ]
    },
    {
     "cell_type": "code",
     "collapsed": false,
     "input": [
      "df[df['location'] == 'Boston']"
     ],
     "language": "python",
     "metadata": {
      "internals": {
       "frag_helper": "fragment_end",
       "frag_number": 6
      },
      "slideshow": {
       "slide_type": "fragment"
      }
     },
     "outputs": [
      {
       "html": [
        "<div style=\"max-height:1000px;max-width:1500px;overflow:auto;\">\n",
        "<table border=\"1\" class=\"dataframe\">\n",
        "  <thead>\n",
        "    <tr style=\"text-align: right;\">\n",
        "      <th></th>\n",
        "      <th>location</th>\n",
        "      <th>ip</th>\n",
        "      <th>pkts</th>\n",
        "      <th>bytes</th>\n",
        "      <th>rtt</th>\n",
        "    </tr>\n",
        "  </thead>\n",
        "  <tbody>\n",
        "    <tr>\n",
        "      <th>0</th>\n",
        "      <td> Boston</td>\n",
        "      <td>  10.1.1.1</td>\n",
        "      <td> 10</td>\n",
        "      <td>  2356</td>\n",
        "      <td> 0.100</td>\n",
        "    </tr>\n",
        "    <tr>\n",
        "      <th>1</th>\n",
        "      <td> Boston</td>\n",
        "      <td>  10.1.1.2</td>\n",
        "      <td> 23</td>\n",
        "      <td> 16600</td>\n",
        "      <td> 0.112</td>\n",
        "    </tr>\n",
        "    <tr>\n",
        "      <th>2</th>\n",
        "      <td> Boston</td>\n",
        "      <td> 10.1.1.15</td>\n",
        "      <td> 19</td>\n",
        "      <td> 22600</td>\n",
        "      <td> 0.085</td>\n",
        "    </tr>\n",
        "  </tbody>\n",
        "</table>\n",
        "<p>3 rows \u00d7 5 columns</p>\n",
        "</div>"
       ],
       "metadata": {},
       "output_type": "pyout",
       "prompt_number": 19,
       "text": [
        "  location         ip  pkts  bytes    rtt\n",
        "0   Boston   10.1.1.1    10   2356  0.100\n",
        "1   Boston   10.1.1.2    23  16600  0.112\n",
        "2   Boston  10.1.1.15    19  22600  0.085\n",
        "\n",
        "[3 rows x 5 columns]"
       ]
      }
     ],
     "prompt_number": 19
    },
    {
     "cell_type": "code",
     "collapsed": false,
     "input": [
      "df[df['pkts'] < 20]"
     ],
     "language": "python",
     "metadata": {
      "internals": {
       "frag_helper": "fragment_end",
       "frag_number": 6,
       "slide_helper": "subslide_end"
      },
      "slide_helper": "subslide_end",
      "slideshow": {
       "slide_type": "fragment"
      }
     },
     "outputs": [
      {
       "html": [
        "<div style=\"max-height:1000px;max-width:1500px;overflow:auto;\">\n",
        "<table border=\"1\" class=\"dataframe\">\n",
        "  <thead>\n",
        "    <tr style=\"text-align: right;\">\n",
        "      <th></th>\n",
        "      <th>location</th>\n",
        "      <th>ip</th>\n",
        "      <th>pkts</th>\n",
        "      <th>bytes</th>\n",
        "      <th>rtt</th>\n",
        "    </tr>\n",
        "  </thead>\n",
        "  <tbody>\n",
        "    <tr>\n",
        "      <th>0</th>\n",
        "      <td>  Boston</td>\n",
        "      <td>    10.1.1.1</td>\n",
        "      <td> 10</td>\n",
        "      <td>  2356</td>\n",
        "      <td> 0.100</td>\n",
        "    </tr>\n",
        "    <tr>\n",
        "      <th>2</th>\n",
        "      <td>  Boston</td>\n",
        "      <td>   10.1.1.15</td>\n",
        "      <td> 19</td>\n",
        "      <td> 22600</td>\n",
        "      <td> 0.085</td>\n",
        "    </tr>\n",
        "    <tr>\n",
        "      <th>3</th>\n",
        "      <td> SanFran</td>\n",
        "      <td>   10.38.5.1</td>\n",
        "      <td> 15</td>\n",
        "      <td> 10550</td>\n",
        "      <td> 0.030</td>\n",
        "    </tr>\n",
        "    <tr>\n",
        "      <th>5</th>\n",
        "      <td>  London</td>\n",
        "      <td> 192.168.4.6</td>\n",
        "      <td> 15</td>\n",
        "      <td>  3400</td>\n",
        "      <td> 0.130</td>\n",
        "    </tr>\n",
        "  </tbody>\n",
        "</table>\n",
        "<p>4 rows \u00d7 5 columns</p>\n",
        "</div>"
       ],
       "metadata": {},
       "output_type": "pyout",
       "prompt_number": 20,
       "text": [
        "  location           ip  pkts  bytes    rtt\n",
        "0   Boston     10.1.1.1    10   2356  0.100\n",
        "2   Boston    10.1.1.15    19  22600  0.085\n",
        "3  SanFran    10.38.5.1    15  10550  0.030\n",
        "5   London  192.168.4.6    15   3400  0.130\n",
        "\n",
        "[4 rows x 5 columns]"
       ]
      }
     ],
     "prompt_number": 20
    },
    {
     "cell_type": "markdown",
     "metadata": {
      "internals": {
       "frag_helper": "fragment_end",
       "frag_number": 6,
       "slide_type": "subslide"
      },
      "slideshow": {
       "slide_type": "subslide"
      }
     },
     "source": [
      "Expressions can be combined to provide more complex filtering:"
     ]
    },
    {
     "cell_type": "code",
     "collapsed": false,
     "input": [
      "df[(df['location'] == 'Boston') & (df['pkts'] < 20)]"
     ],
     "language": "python",
     "metadata": {
      "internals": {
       "frag_helper": "fragment_end",
       "frag_number": 6,
       "slide_helper": "subslide_end"
      },
      "slide_helper": "subslide_end",
      "slideshow": {
       "slide_type": "-"
      }
     },
     "outputs": [
      {
       "html": [
        "<div style=\"max-height:1000px;max-width:1500px;overflow:auto;\">\n",
        "<table border=\"1\" class=\"dataframe\">\n",
        "  <thead>\n",
        "    <tr style=\"text-align: right;\">\n",
        "      <th></th>\n",
        "      <th>location</th>\n",
        "      <th>ip</th>\n",
        "      <th>pkts</th>\n",
        "      <th>bytes</th>\n",
        "      <th>rtt</th>\n",
        "    </tr>\n",
        "  </thead>\n",
        "  <tbody>\n",
        "    <tr>\n",
        "      <th>0</th>\n",
        "      <td> Boston</td>\n",
        "      <td>  10.1.1.1</td>\n",
        "      <td> 10</td>\n",
        "      <td>  2356</td>\n",
        "      <td> 0.100</td>\n",
        "    </tr>\n",
        "    <tr>\n",
        "      <th>2</th>\n",
        "      <td> Boston</td>\n",
        "      <td> 10.1.1.15</td>\n",
        "      <td> 19</td>\n",
        "      <td> 22600</td>\n",
        "      <td> 0.085</td>\n",
        "    </tr>\n",
        "  </tbody>\n",
        "</table>\n",
        "<p>2 rows \u00d7 5 columns</p>\n",
        "</div>"
       ],
       "metadata": {},
       "output_type": "pyout",
       "prompt_number": 21,
       "text": [
        "  location         ip  pkts  bytes    rtt\n",
        "0   Boston   10.1.1.1    10   2356  0.100\n",
        "2   Boston  10.1.1.15    19  22600  0.085\n",
        "\n",
        "[2 rows x 5 columns]"
       ]
      }
     ],
     "prompt_number": 21
    },
    {
     "cell_type": "markdown",
     "metadata": {
      "internals": {
       "frag_helper": "fragment_end",
       "frag_number": 6,
       "slide_type": "subslide"
      },
      "slideshow": {
       "slide_type": "subslide"
      }
     },
     "source": [
      "The boolean expression is actually a **Series** of True/False values of the same length as the number of rows, thus can actually be assigned as a series:"
     ]
    },
    {
     "cell_type": "code",
     "collapsed": false,
     "input": [
      "bos = df['location'] == 'Boston'\n",
      "print type(bos)\n",
      "bos"
     ],
     "language": "python",
     "metadata": {
      "internals": {
       "frag_helper": "fragment_end",
       "frag_number": 6
      },
      "slideshow": {
       "slide_type": "-"
      }
     },
     "outputs": [
      {
       "output_type": "stream",
       "stream": "stdout",
       "text": [
        "<class 'pandas.core.series.Series'>\n"
       ]
      },
      {
       "metadata": {},
       "output_type": "pyout",
       "prompt_number": 22,
       "text": [
        "0     True\n",
        "1     True\n",
        "2     True\n",
        "3    False\n",
        "4    False\n",
        "5    False\n",
        "6    False\n",
        "Name: location, dtype: bool"
       ]
      }
     ],
     "prompt_number": 22
    },
    {
     "cell_type": "code",
     "collapsed": false,
     "input": [
      "pkts_lt_20 = (df['pkts'] < 20)\n",
      "df[bos & pkts_lt_20]"
     ],
     "language": "python",
     "metadata": {
      "internals": {
       "frag_helper": "fragment_end",
       "frag_number": 6,
       "slide_helper": "subslide_end"
      },
      "slide_helper": "subslide_end",
      "slideshow": {
       "slide_type": "-"
      }
     },
     "outputs": [
      {
       "html": [
        "<div style=\"max-height:1000px;max-width:1500px;overflow:auto;\">\n",
        "<table border=\"1\" class=\"dataframe\">\n",
        "  <thead>\n",
        "    <tr style=\"text-align: right;\">\n",
        "      <th></th>\n",
        "      <th>location</th>\n",
        "      <th>ip</th>\n",
        "      <th>pkts</th>\n",
        "      <th>bytes</th>\n",
        "      <th>rtt</th>\n",
        "    </tr>\n",
        "  </thead>\n",
        "  <tbody>\n",
        "    <tr>\n",
        "      <th>0</th>\n",
        "      <td> Boston</td>\n",
        "      <td>  10.1.1.1</td>\n",
        "      <td> 10</td>\n",
        "      <td>  2356</td>\n",
        "      <td> 0.100</td>\n",
        "    </tr>\n",
        "    <tr>\n",
        "      <th>2</th>\n",
        "      <td> Boston</td>\n",
        "      <td> 10.1.1.15</td>\n",
        "      <td> 19</td>\n",
        "      <td> 22600</td>\n",
        "      <td> 0.085</td>\n",
        "    </tr>\n",
        "  </tbody>\n",
        "</table>\n",
        "<p>2 rows \u00d7 5 columns</p>\n",
        "</div>"
       ],
       "metadata": {},
       "output_type": "pyout",
       "prompt_number": 23,
       "text": [
        "  location         ip  pkts  bytes    rtt\n",
        "0   Boston   10.1.1.1    10   2356  0.100\n",
        "2   Boston  10.1.1.15    19  22600  0.085\n",
        "\n",
        "[2 rows x 5 columns]"
       ]
      }
     ],
     "prompt_number": 23
    },
    {
     "cell_type": "markdown",
     "metadata": {
      "internals": {
       "frag_helper": "fragment_end",
       "frag_number": 6,
       "slide_type": "subslide"
      },
      "slideshow": {
       "slide_type": "subslide"
      }
     },
     "source": [
      "Use single \"`&`\" and \"`|`\" and parenthesis for constructing arbitrary boolean expressions.  Use \"`~`\" for negation.\n",
      "\n",
      "The result of a filtering operation is a new **DataFrame** object"
     ]
    },
    {
     "cell_type": "code",
     "collapsed": false,
     "input": [
      "df2 = df[bos & pkts_lt_20]\n",
      "print 'Length:', len(df2)\n",
      "df2"
     ],
     "language": "python",
     "metadata": {
      "internals": {
       "frag_helper": "fragment_end",
       "frag_number": 6,
       "slide_helper": "subslide_end"
      },
      "slide_helper": "slide_end",
      "slideshow": {
       "slide_type": "-"
      }
     },
     "outputs": [
      {
       "output_type": "stream",
       "stream": "stdout",
       "text": [
        "Length: 2\n"
       ]
      },
      {
       "html": [
        "<div style=\"max-height:1000px;max-width:1500px;overflow:auto;\">\n",
        "<table border=\"1\" class=\"dataframe\">\n",
        "  <thead>\n",
        "    <tr style=\"text-align: right;\">\n",
        "      <th></th>\n",
        "      <th>location</th>\n",
        "      <th>ip</th>\n",
        "      <th>pkts</th>\n",
        "      <th>bytes</th>\n",
        "      <th>rtt</th>\n",
        "    </tr>\n",
        "  </thead>\n",
        "  <tbody>\n",
        "    <tr>\n",
        "      <th>0</th>\n",
        "      <td> Boston</td>\n",
        "      <td>  10.1.1.1</td>\n",
        "      <td> 10</td>\n",
        "      <td>  2356</td>\n",
        "      <td> 0.100</td>\n",
        "    </tr>\n",
        "    <tr>\n",
        "      <th>2</th>\n",
        "      <td> Boston</td>\n",
        "      <td> 10.1.1.15</td>\n",
        "      <td> 19</td>\n",
        "      <td> 22600</td>\n",
        "      <td> 0.085</td>\n",
        "    </tr>\n",
        "  </tbody>\n",
        "</table>\n",
        "<p>2 rows \u00d7 5 columns</p>\n",
        "</div>"
       ],
       "metadata": {},
       "output_type": "pyout",
       "prompt_number": 24,
       "text": [
        "  location         ip  pkts  bytes    rtt\n",
        "0   Boston   10.1.1.1    10   2356  0.100\n",
        "2   Boston  10.1.1.15    19  22600  0.085\n",
        "\n",
        "[2 rows x 5 columns]"
       ]
      }
     ],
     "prompt_number": 24
    },
    {
     "cell_type": "markdown",
     "metadata": {
      "internals": {
       "frag_helper": "fragment_end",
       "frag_number": 6,
       "slide_type": "subslide"
      },
      "slideshow": {
       "slide_type": "slide"
      }
     },
     "source": [
      "pandas: Selecting Multiple Columns\n",
      "==================================\n",
      "\n",
      "A new **DataFrame** can be constructed from a subset of another DataFrame using the ``ix[]`` operator.\n",
      "\n",
      "    DataFrame.ix[_row_expr_,_column_lise_]"
     ]
    },
    {
     "cell_type": "code",
     "collapsed": false,
     "input": [
      "locrtt = df.ix[:,['location', 'rtt']]\n",
      "locrtt"
     ],
     "language": "python",
     "metadata": {
      "internals": {
       "frag_helper": "fragment_end",
       "frag_number": 6,
       "slide_helper": "subslide_end"
      },
      "slide_helper": "subslide_end",
      "slideshow": {
       "slide_type": "-"
      }
     },
     "outputs": [
      {
       "html": [
        "<div style=\"max-height:1000px;max-width:1500px;overflow:auto;\">\n",
        "<table border=\"1\" class=\"dataframe\">\n",
        "  <thead>\n",
        "    <tr style=\"text-align: right;\">\n",
        "      <th></th>\n",
        "      <th>location</th>\n",
        "      <th>rtt</th>\n",
        "    </tr>\n",
        "  </thead>\n",
        "  <tbody>\n",
        "    <tr>\n",
        "      <th>0</th>\n",
        "      <td>  Boston</td>\n",
        "      <td> 0.100</td>\n",
        "    </tr>\n",
        "    <tr>\n",
        "      <th>1</th>\n",
        "      <td>  Boston</td>\n",
        "      <td> 0.112</td>\n",
        "    </tr>\n",
        "    <tr>\n",
        "      <th>2</th>\n",
        "      <td>  Boston</td>\n",
        "      <td> 0.085</td>\n",
        "    </tr>\n",
        "    <tr>\n",
        "      <th>3</th>\n",
        "      <td> SanFran</td>\n",
        "      <td> 0.030</td>\n",
        "    </tr>\n",
        "    <tr>\n",
        "      <th>4</th>\n",
        "      <td> SanFran</td>\n",
        "      <td> 0.020</td>\n",
        "    </tr>\n",
        "    <tr>\n",
        "      <th>5</th>\n",
        "      <td>  London</td>\n",
        "      <td> 0.130</td>\n",
        "    </tr>\n",
        "    <tr>\n",
        "      <th>6</th>\n",
        "      <td>  London</td>\n",
        "      <td> 0.120</td>\n",
        "    </tr>\n",
        "  </tbody>\n",
        "</table>\n",
        "<p>7 rows \u00d7 2 columns</p>\n",
        "</div>"
       ],
       "metadata": {},
       "output_type": "pyout",
       "prompt_number": 25,
       "text": [
        "  location    rtt\n",
        "0   Boston  0.100\n",
        "1   Boston  0.112\n",
        "2   Boston  0.085\n",
        "3  SanFran  0.030\n",
        "4  SanFran  0.020\n",
        "5   London  0.130\n",
        "6   London  0.120\n",
        "\n",
        "[7 rows x 2 columns]"
       ]
      }
     ],
     "prompt_number": 25
    },
    {
     "cell_type": "markdown",
     "metadata": {
      "internals": {
       "frag_helper": "fragment_end",
       "frag_number": 6,
       "slide_type": "subslide"
      },
      "slideshow": {
       "slide_type": "subslide"
      }
     },
     "source": [
      "The first argument to the `ix[]` indexer is actually expected to be a boolean Series.  This makes it possible to select rows and columns in a single operation.  The use of \":\" above is short-hand for *all* rows."
     ]
    },
    {
     "cell_type": "code",
     "collapsed": false,
     "input": [
      "boslocrtt = df.ix[bos,['location', 'rtt']]\n",
      "boslocrtt"
     ],
     "language": "python",
     "metadata": {
      "internals": {
       "frag_helper": "fragment_end",
       "frag_number": 6,
       "slide_helper": "subslide_end"
      },
      "slide_helper": "slide_end",
      "slideshow": {
       "slide_type": "-"
      }
     },
     "outputs": [
      {
       "html": [
        "<div style=\"max-height:1000px;max-width:1500px;overflow:auto;\">\n",
        "<table border=\"1\" class=\"dataframe\">\n",
        "  <thead>\n",
        "    <tr style=\"text-align: right;\">\n",
        "      <th></th>\n",
        "      <th>location</th>\n",
        "      <th>rtt</th>\n",
        "    </tr>\n",
        "  </thead>\n",
        "  <tbody>\n",
        "    <tr>\n",
        "      <th>0</th>\n",
        "      <td> Boston</td>\n",
        "      <td> 0.100</td>\n",
        "    </tr>\n",
        "    <tr>\n",
        "      <th>1</th>\n",
        "      <td> Boston</td>\n",
        "      <td> 0.112</td>\n",
        "    </tr>\n",
        "    <tr>\n",
        "      <th>2</th>\n",
        "      <td> Boston</td>\n",
        "      <td> 0.085</td>\n",
        "    </tr>\n",
        "  </tbody>\n",
        "</table>\n",
        "<p>3 rows \u00d7 2 columns</p>\n",
        "</div>"
       ],
       "metadata": {},
       "output_type": "pyout",
       "prompt_number": 26,
       "text": [
        "  location    rtt\n",
        "0   Boston  0.100\n",
        "1   Boston  0.112\n",
        "2   Boston  0.085\n",
        "\n",
        "[3 rows x 2 columns]"
       ]
      }
     ],
     "prompt_number": 26
    },
    {
     "cell_type": "markdown",
     "metadata": {
      "internals": {
       "frag_helper": "fragment_end",
       "frag_number": 6,
       "slide_type": "subslide"
      },
      "slideshow": {
       "slide_type": "slide"
      }
     },
     "source": [
      "pandas: Adding Columns\n",
      "======================\n",
      "\n",
      "New columns (**Series**) be added to a **DataFrame** in one of three ways:\n",
      "\n",
      "* A constant value for all rows\n",
      "* Supplying a `list` matching the number of rows\n",
      "* Expression based on constants and **Series** objects of the same size"
     ]
    },
    {
     "cell_type": "code",
     "collapsed": false,
     "input": [
      "df['co'] = 'RVBD'\n",
      "df['proto'] = ['tcp', 'tcp', 'udp', 'udp', 'tcp', 'tcp', 'udp']\n",
      "df['Bpp'] = df['bytes'] / df['pkts']   # Bytes per packet\n",
      "df['bpp'] = 8 * df['bytes'] / df['pkts']\n",
      "df['slow'] = df['rtt'] >= 0.1\n",
      "df.ix[:,['ip', 'proto', 'Bpp', 'bpp', 'slow', 'delay', 'co']]"
     ],
     "language": "python",
     "metadata": {
      "internals": {
       "frag_helper": "fragment_end",
       "frag_number": 6,
       "slide_helper": "subslide_end"
      },
      "slide_helper": "slide_end",
      "slideshow": {
       "slide_type": "fragment"
      }
     },
     "outputs": [
      {
       "html": [
        "<div style=\"max-height:1000px;max-width:1500px;overflow:auto;\">\n",
        "<table border=\"1\" class=\"dataframe\">\n",
        "  <thead>\n",
        "    <tr style=\"text-align: right;\">\n",
        "      <th></th>\n",
        "      <th>ip</th>\n",
        "      <th>proto</th>\n",
        "      <th>Bpp</th>\n",
        "      <th>bpp</th>\n",
        "      <th>slow</th>\n",
        "      <th>delay</th>\n",
        "      <th>co</th>\n",
        "    </tr>\n",
        "  </thead>\n",
        "  <tbody>\n",
        "    <tr>\n",
        "      <th>0</th>\n",
        "      <td>     10.1.1.1</td>\n",
        "      <td> tcp</td>\n",
        "      <td>  235.600000</td>\n",
        "      <td>  1884.800000</td>\n",
        "      <td>  True</td>\n",
        "      <td>NaN</td>\n",
        "      <td> RVBD</td>\n",
        "    </tr>\n",
        "    <tr>\n",
        "      <th>1</th>\n",
        "      <td>     10.1.1.2</td>\n",
        "      <td> tcp</td>\n",
        "      <td>  721.739130</td>\n",
        "      <td>  5773.913043</td>\n",
        "      <td>  True</td>\n",
        "      <td>NaN</td>\n",
        "      <td> RVBD</td>\n",
        "    </tr>\n",
        "    <tr>\n",
        "      <th>2</th>\n",
        "      <td>    10.1.1.15</td>\n",
        "      <td> udp</td>\n",
        "      <td> 1189.473684</td>\n",
        "      <td>  9515.789474</td>\n",
        "      <td> False</td>\n",
        "      <td>NaN</td>\n",
        "      <td> RVBD</td>\n",
        "    </tr>\n",
        "    <tr>\n",
        "      <th>3</th>\n",
        "      <td>    10.38.5.1</td>\n",
        "      <td> udp</td>\n",
        "      <td>  703.333333</td>\n",
        "      <td>  5626.666667</td>\n",
        "      <td> False</td>\n",
        "      <td>NaN</td>\n",
        "      <td> RVBD</td>\n",
        "    </tr>\n",
        "    <tr>\n",
        "      <th>4</th>\n",
        "      <td>    10.38.8.2</td>\n",
        "      <td> tcp</td>\n",
        "      <td>  625.000000</td>\n",
        "      <td>  5000.000000</td>\n",
        "      <td> False</td>\n",
        "      <td>NaN</td>\n",
        "      <td> RVBD</td>\n",
        "    </tr>\n",
        "    <tr>\n",
        "      <th>5</th>\n",
        "      <td>  192.168.4.6</td>\n",
        "      <td> tcp</td>\n",
        "      <td>  226.666667</td>\n",
        "      <td>  1813.333333</td>\n",
        "      <td>  True</td>\n",
        "      <td>NaN</td>\n",
        "      <td> RVBD</td>\n",
        "    </tr>\n",
        "    <tr>\n",
        "      <th>6</th>\n",
        "      <td> 192.168.5.72</td>\n",
        "      <td> udp</td>\n",
        "      <td> 1341.463415</td>\n",
        "      <td> 10731.707317</td>\n",
        "      <td>  True</td>\n",
        "      <td>NaN</td>\n",
        "      <td> RVBD</td>\n",
        "    </tr>\n",
        "  </tbody>\n",
        "</table>\n",
        "<p>7 rows \u00d7 7 columns</p>\n",
        "</div>"
       ],
       "metadata": {},
       "output_type": "pyout",
       "prompt_number": 27,
       "text": [
        "             ip proto          Bpp           bpp   slow  delay    co\n",
        "0      10.1.1.1   tcp   235.600000   1884.800000   True    NaN  RVBD\n",
        "1      10.1.1.2   tcp   721.739130   5773.913043   True    NaN  RVBD\n",
        "2     10.1.1.15   udp  1189.473684   9515.789474  False    NaN  RVBD\n",
        "3     10.38.5.1   udp   703.333333   5626.666667  False    NaN  RVBD\n",
        "4     10.38.8.2   tcp   625.000000   5000.000000  False    NaN  RVBD\n",
        "5   192.168.4.6   tcp   226.666667   1813.333333   True    NaN  RVBD\n",
        "6  192.168.5.72   udp  1341.463415  10731.707317   True    NaN  RVBD\n",
        "\n",
        "[7 rows x 7 columns]"
       ]
      }
     ],
     "prompt_number": 27
    },
    {
     "cell_type": "markdown",
     "metadata": {
      "internals": {
       "frag_helper": "fragment_end",
       "frag_number": 6,
       "slide_type": "subslide"
      },
      "slideshow": {
       "slide_type": "slide"
      }
     },
     "source": [
      "pandas: Grouping and Aggregating\n",
      "================================\n",
      "\n",
      "A common operation is to group data by a key column or set of of key columns.  The groups rows that share the same value for all key columns producing one row per unique key pair:\n",
      "\n",
      "    df.groupby(_key_columns_]\n",
      "  \n",
      "For example, to group by the `location` column:"
     ]
    },
    {
     "cell_type": "code",
     "collapsed": false,
     "input": [
      "gb = df.groupby('location')\n",
      "print type(gb)\n",
      "gb.indices"
     ],
     "language": "python",
     "metadata": {
      "slideshow": {
       "slide_type": "-"
      }
     },
     "outputs": [
      {
       "output_type": "stream",
       "stream": "stdout",
       "text": [
        "<class 'pandas.core.groupby.DataFrameGroupBy'>\n"
       ]
      },
      {
       "metadata": {},
       "output_type": "pyout",
       "prompt_number": 28,
       "text": [
        "{'Boston': array([0, 1, 2]), 'London': array([5, 6]), 'SanFran': array([3, 4])}"
       ]
      }
     ],
     "prompt_number": 28
    },
    {
     "cell_type": "markdown",
     "metadata": {
      "slideshow": {
       "slide_type": "-"
      }
     },
     "source": [
      "The result of a grouping operation is a **GroupBy** object.  The above ``indices`` shows you the row numbers for the grouped data.  The data of a **GroupBy** object cannot be inspected directly until aggregated."
     ]
    },
    {
     "cell_type": "markdown",
     "metadata": {
      "slideshow": {
       "slide_type": "subslide"
      }
     },
     "source": [
      "The ``groupby()`` operation is usually followed by an ``aggregate()`` call to combine the values of all related rows in each column.\n",
      "\n",
      "In one form, the ``aggregate()`` call takes a dictionary indicating the operation to perform on each column to comine values:\n",
      "\n",
      "    GroupBy.aggregate({<colname>: <operation>,\n",
      "                       <colname>: <operation>,\n",
      "                       ... })\n",
      "                       \n",
      "Only columns listed in the dictionary will be returned in the resulting DataFrame."
     ]
    },
    {
     "cell_type": "code",
     "collapsed": false,
     "input": [
      "gb.aggregate({'pkts': 'sum',\n",
      "              'rtt': 'mean'})"
     ],
     "language": "python",
     "metadata": {
      "slideshow": {
       "slide_type": "fragment"
      }
     },
     "outputs": [
      {
       "html": [
        "<div style=\"max-height:1000px;max-width:1500px;overflow:auto;\">\n",
        "<table border=\"1\" class=\"dataframe\">\n",
        "  <thead>\n",
        "    <tr style=\"text-align: right;\">\n",
        "      <th></th>\n",
        "      <th>pkts</th>\n",
        "      <th>rtt</th>\n",
        "    </tr>\n",
        "    <tr>\n",
        "      <th>location</th>\n",
        "      <th></th>\n",
        "      <th></th>\n",
        "    </tr>\n",
        "  </thead>\n",
        "  <tbody>\n",
        "    <tr>\n",
        "      <th>Boston</th>\n",
        "      <td> 52</td>\n",
        "      <td> 0.099</td>\n",
        "    </tr>\n",
        "    <tr>\n",
        "      <th>London</th>\n",
        "      <td> 56</td>\n",
        "      <td> 0.125</td>\n",
        "    </tr>\n",
        "    <tr>\n",
        "      <th>SanFran</th>\n",
        "      <td> 71</td>\n",
        "      <td> 0.025</td>\n",
        "    </tr>\n",
        "  </tbody>\n",
        "</table>\n",
        "<p>3 rows \u00d7 2 columns</p>\n",
        "</div>"
       ],
       "metadata": {},
       "output_type": "pyout",
       "prompt_number": 29,
       "text": [
        "          pkts    rtt\n",
        "location             \n",
        "Boston      52  0.099\n",
        "London      56  0.125\n",
        "SanFran     71  0.025\n",
        "\n",
        "[3 rows x 2 columns]"
       ]
      }
     ],
     "prompt_number": 29
    },
    {
     "cell_type": "markdown",
     "metadata": {
      "slideshow": {
       "slide_type": "subslide"
      }
     },
     "source": [
      "By copying columns, it is possible to compute alternate operations on the same data, producing different aggregated results:"
     ]
    },
    {
     "cell_type": "code",
     "collapsed": false,
     "input": [
      "df2 = df.ix[:,['location', 'pkts', 'rtt']]\n",
      "df2['peak_rtt'] = df['rtt']\n",
      "df2['min_rtt'] = df['rtt']\n",
      "df2"
     ],
     "language": "python",
     "metadata": {
      "slideshow": {
       "slide_type": "-"
      }
     },
     "outputs": [
      {
       "html": [
        "<div style=\"max-height:1000px;max-width:1500px;overflow:auto;\">\n",
        "<table border=\"1\" class=\"dataframe\">\n",
        "  <thead>\n",
        "    <tr style=\"text-align: right;\">\n",
        "      <th></th>\n",
        "      <th>location</th>\n",
        "      <th>pkts</th>\n",
        "      <th>rtt</th>\n",
        "      <th>peak_rtt</th>\n",
        "      <th>min_rtt</th>\n",
        "    </tr>\n",
        "  </thead>\n",
        "  <tbody>\n",
        "    <tr>\n",
        "      <th>0</th>\n",
        "      <td>  Boston</td>\n",
        "      <td> 10</td>\n",
        "      <td> 0.100</td>\n",
        "      <td> 0.100</td>\n",
        "      <td> 0.100</td>\n",
        "    </tr>\n",
        "    <tr>\n",
        "      <th>1</th>\n",
        "      <td>  Boston</td>\n",
        "      <td> 23</td>\n",
        "      <td> 0.112</td>\n",
        "      <td> 0.112</td>\n",
        "      <td> 0.112</td>\n",
        "    </tr>\n",
        "    <tr>\n",
        "      <th>2</th>\n",
        "      <td>  Boston</td>\n",
        "      <td> 19</td>\n",
        "      <td> 0.085</td>\n",
        "      <td> 0.085</td>\n",
        "      <td> 0.085</td>\n",
        "    </tr>\n",
        "    <tr>\n",
        "      <th>3</th>\n",
        "      <td> SanFran</td>\n",
        "      <td> 15</td>\n",
        "      <td> 0.030</td>\n",
        "      <td> 0.030</td>\n",
        "      <td> 0.030</td>\n",
        "    </tr>\n",
        "    <tr>\n",
        "      <th>4</th>\n",
        "      <td> SanFran</td>\n",
        "      <td> 56</td>\n",
        "      <td> 0.020</td>\n",
        "      <td> 0.020</td>\n",
        "      <td> 0.020</td>\n",
        "    </tr>\n",
        "    <tr>\n",
        "      <th>5</th>\n",
        "      <td>  London</td>\n",
        "      <td> 15</td>\n",
        "      <td> 0.130</td>\n",
        "      <td> 0.130</td>\n",
        "      <td> 0.130</td>\n",
        "    </tr>\n",
        "    <tr>\n",
        "      <th>6</th>\n",
        "      <td>  London</td>\n",
        "      <td> 41</td>\n",
        "      <td> 0.120</td>\n",
        "      <td> 0.120</td>\n",
        "      <td> 0.120</td>\n",
        "    </tr>\n",
        "  </tbody>\n",
        "</table>\n",
        "<p>7 rows \u00d7 5 columns</p>\n",
        "</div>"
       ],
       "metadata": {},
       "output_type": "pyout",
       "prompt_number": 30,
       "text": [
        "  location  pkts    rtt  peak_rtt  min_rtt\n",
        "0   Boston    10  0.100     0.100    0.100\n",
        "1   Boston    23  0.112     0.112    0.112\n",
        "2   Boston    19  0.085     0.085    0.085\n",
        "3  SanFran    15  0.030     0.030    0.030\n",
        "4  SanFran    56  0.020     0.020    0.020\n",
        "5   London    15  0.130     0.130    0.130\n",
        "6   London    41  0.120     0.120    0.120\n",
        "\n",
        "[7 rows x 5 columns]"
       ]
      }
     ],
     "prompt_number": 30
    },
    {
     "cell_type": "code",
     "collapsed": false,
     "input": [
      "agg = (df2.groupby('location')\n",
      "          .aggregate({'pkts': 'sum',\n",
      "                      'rtt': 'mean',\n",
      "                      'peak_rtt': 'max',\n",
      "                      'min_rtt': 'min'}))\n",
      "agg"
     ],
     "language": "python",
     "metadata": {
      "slideshow": {
       "slide_type": "subslide"
      }
     },
     "outputs": [
      {
       "html": [
        "<div style=\"max-height:1000px;max-width:1500px;overflow:auto;\">\n",
        "<table border=\"1\" class=\"dataframe\">\n",
        "  <thead>\n",
        "    <tr style=\"text-align: right;\">\n",
        "      <th></th>\n",
        "      <th>pkts</th>\n",
        "      <th>rtt</th>\n",
        "      <th>min_rtt</th>\n",
        "      <th>peak_rtt</th>\n",
        "    </tr>\n",
        "    <tr>\n",
        "      <th>location</th>\n",
        "      <th></th>\n",
        "      <th></th>\n",
        "      <th></th>\n",
        "      <th></th>\n",
        "    </tr>\n",
        "  </thead>\n",
        "  <tbody>\n",
        "    <tr>\n",
        "      <th>Boston</th>\n",
        "      <td> 52</td>\n",
        "      <td> 0.099</td>\n",
        "      <td> 0.085</td>\n",
        "      <td> 0.112</td>\n",
        "    </tr>\n",
        "    <tr>\n",
        "      <th>London</th>\n",
        "      <td> 56</td>\n",
        "      <td> 0.125</td>\n",
        "      <td> 0.120</td>\n",
        "      <td> 0.130</td>\n",
        "    </tr>\n",
        "    <tr>\n",
        "      <th>SanFran</th>\n",
        "      <td> 71</td>\n",
        "      <td> 0.025</td>\n",
        "      <td> 0.020</td>\n",
        "      <td> 0.030</td>\n",
        "    </tr>\n",
        "  </tbody>\n",
        "</table>\n",
        "<p>3 rows \u00d7 4 columns</p>\n",
        "</div>"
       ],
       "metadata": {},
       "output_type": "pyout",
       "prompt_number": 31,
       "text": [
        "          pkts    rtt  min_rtt  peak_rtt\n",
        "location                                \n",
        "Boston      52  0.099    0.085     0.112\n",
        "London      56  0.125    0.120     0.130\n",
        "SanFran     71  0.025    0.020     0.030\n",
        "\n",
        "[3 rows x 4 columns]"
       ]
      }
     ],
     "prompt_number": 31
    },
    {
     "cell_type": "markdown",
     "metadata": {
      "internals": {
       "frag_helper": "fragment_end",
       "frag_number": 6,
       "slide_type": "subslide"
      },
      "slideshow": {
       "slide_type": "slide"
      }
     },
     "source": [
      "pandas: Indexing\n",
      "================\n",
      "\n",
      "Notice that the output of the preview groupby/aggregate operation looked a bit different from previous data frames, the first  column is in bold:"
     ]
    },
    {
     "cell_type": "code",
     "collapsed": false,
     "input": [
      "agg"
     ],
     "language": "python",
     "metadata": {
      "internals": {
       "frag_helper": "fragment_end",
       "frag_number": 6
      },
      "slideshow": {
       "slide_type": "-"
      }
     },
     "outputs": [
      {
       "html": [
        "<div style=\"max-height:1000px;max-width:1500px;overflow:auto;\">\n",
        "<table border=\"1\" class=\"dataframe\">\n",
        "  <thead>\n",
        "    <tr style=\"text-align: right;\">\n",
        "      <th></th>\n",
        "      <th>pkts</th>\n",
        "      <th>rtt</th>\n",
        "      <th>min_rtt</th>\n",
        "      <th>peak_rtt</th>\n",
        "    </tr>\n",
        "    <tr>\n",
        "      <th>location</th>\n",
        "      <th></th>\n",
        "      <th></th>\n",
        "      <th></th>\n",
        "      <th></th>\n",
        "    </tr>\n",
        "  </thead>\n",
        "  <tbody>\n",
        "    <tr>\n",
        "      <th>Boston</th>\n",
        "      <td> 52</td>\n",
        "      <td> 0.099</td>\n",
        "      <td> 0.085</td>\n",
        "      <td> 0.112</td>\n",
        "    </tr>\n",
        "    <tr>\n",
        "      <th>London</th>\n",
        "      <td> 56</td>\n",
        "      <td> 0.125</td>\n",
        "      <td> 0.120</td>\n",
        "      <td> 0.130</td>\n",
        "    </tr>\n",
        "    <tr>\n",
        "      <th>SanFran</th>\n",
        "      <td> 71</td>\n",
        "      <td> 0.025</td>\n",
        "      <td> 0.020</td>\n",
        "      <td> 0.030</td>\n",
        "    </tr>\n",
        "  </tbody>\n",
        "</table>\n",
        "<p>3 rows \u00d7 4 columns</p>\n",
        "</div>"
       ],
       "metadata": {},
       "output_type": "pyout",
       "prompt_number": 32,
       "text": [
        "          pkts    rtt  min_rtt  peak_rtt\n",
        "location                                \n",
        "Boston      52  0.099    0.085     0.112\n",
        "London      56  0.125    0.120     0.130\n",
        "SanFran     71  0.025    0.020     0.030\n",
        "\n",
        "[3 rows x 4 columns]"
       ]
      }
     ],
     "prompt_number": 32
    },
    {
     "cell_type": "markdown",
     "metadata": {
      "slideshow": {
       "slide_type": "-"
      }
     },
     "source": [
      "The bold rows/columns indicate that the **DataFrame** is *indexed*.  "
     ]
    },
    {
     "cell_type": "markdown",
     "metadata": {
      "internals": {
       "frag_helper": "fragment_end",
       "frag_number": 6
      },
      "slideshow": {
       "slide_type": "subslide"
      }
     },
     "source": [
      "Let's look at the DataFrame without the index -- by calling `reset_index()`:"
     ]
    },
    {
     "cell_type": "code",
     "collapsed": false,
     "input": [
      "agg.reset_index()"
     ],
     "language": "python",
     "metadata": {
      "slideshow": {
       "slide_type": "-"
      }
     },
     "outputs": [
      {
       "html": [
        "<div style=\"max-height:1000px;max-width:1500px;overflow:auto;\">\n",
        "<table border=\"1\" class=\"dataframe\">\n",
        "  <thead>\n",
        "    <tr style=\"text-align: right;\">\n",
        "      <th></th>\n",
        "      <th>location</th>\n",
        "      <th>pkts</th>\n",
        "      <th>rtt</th>\n",
        "      <th>min_rtt</th>\n",
        "      <th>peak_rtt</th>\n",
        "    </tr>\n",
        "  </thead>\n",
        "  <tbody>\n",
        "    <tr>\n",
        "      <th>0</th>\n",
        "      <td>  Boston</td>\n",
        "      <td> 52</td>\n",
        "      <td> 0.099</td>\n",
        "      <td> 0.085</td>\n",
        "      <td> 0.112</td>\n",
        "    </tr>\n",
        "    <tr>\n",
        "      <th>1</th>\n",
        "      <td>  London</td>\n",
        "      <td> 56</td>\n",
        "      <td> 0.125</td>\n",
        "      <td> 0.120</td>\n",
        "      <td> 0.130</td>\n",
        "    </tr>\n",
        "    <tr>\n",
        "      <th>2</th>\n",
        "      <td> SanFran</td>\n",
        "      <td> 71</td>\n",
        "      <td> 0.025</td>\n",
        "      <td> 0.020</td>\n",
        "      <td> 0.030</td>\n",
        "    </tr>\n",
        "  </tbody>\n",
        "</table>\n",
        "<p>3 rows \u00d7 5 columns</p>\n",
        "</div>"
       ],
       "metadata": {},
       "output_type": "pyout",
       "prompt_number": 33,
       "text": [
        "  location  pkts    rtt  min_rtt  peak_rtt\n",
        "0   Boston    52  0.099    0.085     0.112\n",
        "1   London    56  0.125    0.120     0.130\n",
        "2  SanFran    71  0.025    0.020     0.030\n",
        "\n",
        "[3 rows x 5 columns]"
       ]
      }
     ],
     "prompt_number": 33
    },
    {
     "cell_type": "markdown",
     "metadata": {
      "slideshow": {
       "slide_type": "fragment"
      }
     },
     "source": [
      "Indexing a **DataFrame** makes the data in the indexed column to meta-data associated with the object.  This index is carried on to **Series** objects:"
     ]
    },
    {
     "cell_type": "code",
     "collapsed": false,
     "input": [
      "agg['pkts']"
     ],
     "language": "python",
     "metadata": {
      "internals": {
       "frag_helper": "fragment_end",
       "frag_number": 6
      },
      "slideshow": {
       "slide_type": "fragment"
      }
     },
     "outputs": [
      {
       "metadata": {},
       "output_type": "pyout",
       "prompt_number": 34,
       "text": [
        "location\n",
        "Boston      52\n",
        "London      56\n",
        "SanFran     71\n",
        "Name: pkts, dtype: int64"
       ]
      }
     ],
     "prompt_number": 34
    },
    {
     "cell_type": "markdown",
     "metadata": {
      "internals": {
       "frag_helper": "fragment_end",
       "frag_number": 6
      },
      "slideshow": {
       "slide_type": "subslide"
      }
     },
     "source": [
      "The resulting series still acts like an array, but may be indexed by either a numeric row value or a location name:"
     ]
    },
    {
     "cell_type": "code",
     "collapsed": false,
     "input": [
      "print \"Boston:\", agg['pkts']['Boston']\n",
      "print \"Item 0:\", agg['pkts'][0]"
     ],
     "language": "python",
     "metadata": {
      "internals": {
       "frag_helper": "fragment_end",
       "frag_number": 6,
       "slide_helper": "subslide_end"
      },
      "slide_helper": "slide_end",
      "slideshow": {
       "slide_type": "-"
      }
     },
     "outputs": [
      {
       "output_type": "stream",
       "stream": "stdout",
       "text": [
        "Boston: 52\n",
        "Item 0: 52\n"
       ]
      }
     ],
     "prompt_number": 35
    },
    {
     "cell_type": "code",
     "collapsed": false,
     "input": [
      "df = df.ix[:,['location', 'ip', 'pkts', 'bytes', 'rtt', 'slow']]"
     ],
     "language": "python",
     "metadata": {
      "slideshow": {
       "slide_type": "skip"
      }
     },
     "outputs": [],
     "prompt_number": 36
    },
    {
     "cell_type": "markdown",
     "metadata": {
      "internals": {
       "frag_helper": "fragment_end",
       "frag_number": 6,
       "slide_type": "subslide"
      },
      "slideshow": {
       "slide_type": "slide"
      }
     },
     "source": [
      "pandas: Modifying a Subset of Rows\n",
      "==================================\n",
      "\n",
      "Often it is useful to assign a subset of rows in a column.  This is possible by assigning a value to the result of the `ix[]` indexer: \n",
      "\n",
      "    DataFrame.ix[_row_expr_, _column_list_>] = <new value>\n",
      "    \n",
      "When used in this form, the **DataFrame** object indexed is modified in place.\n",
      "\n",
      "Let's use this method to assign a value of 'slow', 'normal', or 'fast' to a new 'delay' column based on rtt:"
     ]
    },
    {
     "cell_type": "code",
     "collapsed": false,
     "input": [
      "df['delay'] = ''\n",
      "df"
     ],
     "language": "python",
     "metadata": {
      "internals": {
       "frag_helper": "fragment_end",
       "frag_number": 6,
       "slide_helper": "subslide_end"
      },
      "slide_helper": "subslide_end",
      "slideshow": {
       "slide_type": "-"
      }
     },
     "outputs": [
      {
       "html": [
        "<div style=\"max-height:1000px;max-width:1500px;overflow:auto;\">\n",
        "<table border=\"1\" class=\"dataframe\">\n",
        "  <thead>\n",
        "    <tr style=\"text-align: right;\">\n",
        "      <th></th>\n",
        "      <th>location</th>\n",
        "      <th>ip</th>\n",
        "      <th>pkts</th>\n",
        "      <th>bytes</th>\n",
        "      <th>rtt</th>\n",
        "      <th>slow</th>\n",
        "      <th>delay</th>\n",
        "    </tr>\n",
        "  </thead>\n",
        "  <tbody>\n",
        "    <tr>\n",
        "      <th>0</th>\n",
        "      <td>  Boston</td>\n",
        "      <td>     10.1.1.1</td>\n",
        "      <td> 10</td>\n",
        "      <td>  2356</td>\n",
        "      <td> 0.100</td>\n",
        "      <td>  True</td>\n",
        "      <td> </td>\n",
        "    </tr>\n",
        "    <tr>\n",
        "      <th>1</th>\n",
        "      <td>  Boston</td>\n",
        "      <td>     10.1.1.2</td>\n",
        "      <td> 23</td>\n",
        "      <td> 16600</td>\n",
        "      <td> 0.112</td>\n",
        "      <td>  True</td>\n",
        "      <td> </td>\n",
        "    </tr>\n",
        "    <tr>\n",
        "      <th>2</th>\n",
        "      <td>  Boston</td>\n",
        "      <td>    10.1.1.15</td>\n",
        "      <td> 19</td>\n",
        "      <td> 22600</td>\n",
        "      <td> 0.085</td>\n",
        "      <td> False</td>\n",
        "      <td> </td>\n",
        "    </tr>\n",
        "    <tr>\n",
        "      <th>3</th>\n",
        "      <td> SanFran</td>\n",
        "      <td>    10.38.5.1</td>\n",
        "      <td> 15</td>\n",
        "      <td> 10550</td>\n",
        "      <td> 0.030</td>\n",
        "      <td> False</td>\n",
        "      <td> </td>\n",
        "    </tr>\n",
        "    <tr>\n",
        "      <th>4</th>\n",
        "      <td> SanFran</td>\n",
        "      <td>    10.38.8.2</td>\n",
        "      <td> 56</td>\n",
        "      <td> 35000</td>\n",
        "      <td> 0.020</td>\n",
        "      <td> False</td>\n",
        "      <td> </td>\n",
        "    </tr>\n",
        "    <tr>\n",
        "      <th>5</th>\n",
        "      <td>  London</td>\n",
        "      <td>  192.168.4.6</td>\n",
        "      <td> 15</td>\n",
        "      <td>  3400</td>\n",
        "      <td> 0.130</td>\n",
        "      <td>  True</td>\n",
        "      <td> </td>\n",
        "    </tr>\n",
        "    <tr>\n",
        "      <th>6</th>\n",
        "      <td>  London</td>\n",
        "      <td> 192.168.5.72</td>\n",
        "      <td> 41</td>\n",
        "      <td> 55000</td>\n",
        "      <td> 0.120</td>\n",
        "      <td>  True</td>\n",
        "      <td> </td>\n",
        "    </tr>\n",
        "  </tbody>\n",
        "</table>\n",
        "<p>7 rows \u00d7 7 columns</p>\n",
        "</div>"
       ],
       "metadata": {},
       "output_type": "pyout",
       "prompt_number": 37,
       "text": [
        "  location            ip  pkts  bytes    rtt   slow delay\n",
        "0   Boston      10.1.1.1    10   2356  0.100   True      \n",
        "1   Boston      10.1.1.2    23  16600  0.112   True      \n",
        "2   Boston     10.1.1.15    19  22600  0.085  False      \n",
        "3  SanFran     10.38.5.1    15  10550  0.030  False      \n",
        "4  SanFran     10.38.8.2    56  35000  0.020  False      \n",
        "5   London   192.168.4.6    15   3400  0.130   True      \n",
        "6   London  192.168.5.72    41  55000  0.120   True      \n",
        "\n",
        "[7 rows x 7 columns]"
       ]
      }
     ],
     "prompt_number": 37
    },
    {
     "cell_type": "markdown",
     "metadata": {
      "internals": {
       "frag_helper": "fragment_end",
       "frag_number": 6,
       "slide_type": "subslide"
      },
      "slideshow": {
       "slide_type": "subslide"
      }
     },
     "source": [
      "Compute boolean **Series** for each range of rtt:"
     ]
    },
    {
     "cell_type": "code",
     "collapsed": false,
     "input": [
      "slow_rows = (df['rtt'] > 0.110)\n",
      "normal_rows = ((df['rtt'] > 0.050) & (~slow_rows))\n",
      "fast_rows = ((~slow_rows) & (~normal_rows))"
     ],
     "language": "python",
     "metadata": {
      "internals": {
       "frag_helper": "fragment_end",
       "frag_number": 6
      },
      "slideshow": {
       "slide_type": "-"
      }
     },
     "outputs": [],
     "prompt_number": 38
    },
    {
     "cell_type": "code",
     "collapsed": false,
     "input": [
      "df.ix[slow_rows,'delay'] = 'slow'\n",
      "df.ix[normal_rows, 'delay'] = 'normal'\n",
      "df.ix[fast_rows, 'delay'] = 'fast'\n",
      "df"
     ],
     "language": "python",
     "metadata": {
      "internals": {
       "frag_helper": "fragment_end",
       "frag_number": 6,
       "slide_helper": "subslide_end"
      },
      "slide_helper": "slide_end",
      "slideshow": {
       "slide_type": "-"
      }
     },
     "outputs": [
      {
       "html": [
        "<div style=\"max-height:1000px;max-width:1500px;overflow:auto;\">\n",
        "<table border=\"1\" class=\"dataframe\">\n",
        "  <thead>\n",
        "    <tr style=\"text-align: right;\">\n",
        "      <th></th>\n",
        "      <th>location</th>\n",
        "      <th>ip</th>\n",
        "      <th>pkts</th>\n",
        "      <th>bytes</th>\n",
        "      <th>rtt</th>\n",
        "      <th>slow</th>\n",
        "      <th>delay</th>\n",
        "    </tr>\n",
        "  </thead>\n",
        "  <tbody>\n",
        "    <tr>\n",
        "      <th>0</th>\n",
        "      <td>  Boston</td>\n",
        "      <td>     10.1.1.1</td>\n",
        "      <td> 10</td>\n",
        "      <td>  2356</td>\n",
        "      <td> 0.100</td>\n",
        "      <td>  True</td>\n",
        "      <td> normal</td>\n",
        "    </tr>\n",
        "    <tr>\n",
        "      <th>1</th>\n",
        "      <td>  Boston</td>\n",
        "      <td>     10.1.1.2</td>\n",
        "      <td> 23</td>\n",
        "      <td> 16600</td>\n",
        "      <td> 0.112</td>\n",
        "      <td>  True</td>\n",
        "      <td>   slow</td>\n",
        "    </tr>\n",
        "    <tr>\n",
        "      <th>2</th>\n",
        "      <td>  Boston</td>\n",
        "      <td>    10.1.1.15</td>\n",
        "      <td> 19</td>\n",
        "      <td> 22600</td>\n",
        "      <td> 0.085</td>\n",
        "      <td> False</td>\n",
        "      <td> normal</td>\n",
        "    </tr>\n",
        "    <tr>\n",
        "      <th>3</th>\n",
        "      <td> SanFran</td>\n",
        "      <td>    10.38.5.1</td>\n",
        "      <td> 15</td>\n",
        "      <td> 10550</td>\n",
        "      <td> 0.030</td>\n",
        "      <td> False</td>\n",
        "      <td>   fast</td>\n",
        "    </tr>\n",
        "    <tr>\n",
        "      <th>4</th>\n",
        "      <td> SanFran</td>\n",
        "      <td>    10.38.8.2</td>\n",
        "      <td> 56</td>\n",
        "      <td> 35000</td>\n",
        "      <td> 0.020</td>\n",
        "      <td> False</td>\n",
        "      <td>   fast</td>\n",
        "    </tr>\n",
        "    <tr>\n",
        "      <th>5</th>\n",
        "      <td>  London</td>\n",
        "      <td>  192.168.4.6</td>\n",
        "      <td> 15</td>\n",
        "      <td>  3400</td>\n",
        "      <td> 0.130</td>\n",
        "      <td>  True</td>\n",
        "      <td>   slow</td>\n",
        "    </tr>\n",
        "    <tr>\n",
        "      <th>6</th>\n",
        "      <td>  London</td>\n",
        "      <td> 192.168.5.72</td>\n",
        "      <td> 41</td>\n",
        "      <td> 55000</td>\n",
        "      <td> 0.120</td>\n",
        "      <td>  True</td>\n",
        "      <td>   slow</td>\n",
        "    </tr>\n",
        "  </tbody>\n",
        "</table>\n",
        "<p>7 rows \u00d7 7 columns</p>\n",
        "</div>"
       ],
       "metadata": {},
       "output_type": "pyout",
       "prompt_number": 39,
       "text": [
        "  location            ip  pkts  bytes    rtt   slow   delay\n",
        "0   Boston      10.1.1.1    10   2356  0.100   True  normal\n",
        "1   Boston      10.1.1.2    23  16600  0.112   True    slow\n",
        "2   Boston     10.1.1.15    19  22600  0.085  False  normal\n",
        "3  SanFran     10.38.5.1    15  10550  0.030  False    fast\n",
        "4  SanFran     10.38.8.2    56  35000  0.020  False    fast\n",
        "5   London   192.168.4.6    15   3400  0.130   True    slow\n",
        "6   London  192.168.5.72    41  55000  0.120   True    slow\n",
        "\n",
        "[7 rows x 7 columns]"
       ]
      }
     ],
     "prompt_number": 39
    },
    {
     "cell_type": "markdown",
     "metadata": {
      "internals": {
       "frag_helper": "fragment_end",
       "frag_number": 6,
       "slide_type": "subslide"
      },
      "slideshow": {
       "slide_type": "slide"
      }
     },
     "source": [
      "pandas: Unstacking Data\n",
      "=======================\n",
      "\n",
      "Unstacking data is about pivoting data based on row values.  For example, let's say we want to compute the total bytes for each delay category by location:\n",
      "\n",
      "                 slow   normal   fast\n",
      "      Boston       ?       ?       ?\n",
      "      SanFran      ?       ?       ?\n",
      "      London       ?       ?       ?\n",
      "\n",
      "Where the `?` in each cell is the total bytes for that combination.\n",
      "\n",
      "First we groupby both `location` and `delay`, aggregating the `bytes` column:"
     ]
    },
    {
     "cell_type": "code",
     "collapsed": false,
     "input": [
      "loc_delay_bytes = (df.groupby(['location', 'delay'])\n",
      "                     .aggregate({'bytes': 'sum'}))\n",
      "loc_delay_bytes"
     ],
     "language": "python",
     "metadata": {
      "internals": {
       "frag_helper": "fragment_end",
       "frag_number": 6
      },
      "slideshow": {
       "slide_type": "-"
      }
     },
     "outputs": [
      {
       "html": [
        "<div style=\"max-height:1000px;max-width:1500px;overflow:auto;\">\n",
        "<table border=\"1\" class=\"dataframe\">\n",
        "  <thead>\n",
        "    <tr style=\"text-align: right;\">\n",
        "      <th></th>\n",
        "      <th></th>\n",
        "      <th>bytes</th>\n",
        "    </tr>\n",
        "    <tr>\n",
        "      <th>location</th>\n",
        "      <th>delay</th>\n",
        "      <th></th>\n",
        "    </tr>\n",
        "  </thead>\n",
        "  <tbody>\n",
        "    <tr>\n",
        "      <th rowspan=\"2\" valign=\"top\">Boston</th>\n",
        "      <th>normal</th>\n",
        "      <td> 24956</td>\n",
        "    </tr>\n",
        "    <tr>\n",
        "      <th>slow</th>\n",
        "      <td> 16600</td>\n",
        "    </tr>\n",
        "    <tr>\n",
        "      <th>London</th>\n",
        "      <th>slow</th>\n",
        "      <td> 58400</td>\n",
        "    </tr>\n",
        "    <tr>\n",
        "      <th>SanFran</th>\n",
        "      <th>fast</th>\n",
        "      <td> 45550</td>\n",
        "    </tr>\n",
        "  </tbody>\n",
        "</table>\n",
        "<p>4 rows \u00d7 1 columns</p>\n",
        "</div>"
       ],
       "metadata": {},
       "output_type": "pyout",
       "prompt_number": 40,
       "text": [
        "                 bytes\n",
        "location delay        \n",
        "Boston   normal  24956\n",
        "         slow    16600\n",
        "London   slow    58400\n",
        "SanFran  fast    45550\n",
        "\n",
        "[4 rows x 1 columns]"
       ]
      }
     ],
     "prompt_number": 40
    },
    {
     "cell_type": "markdown",
     "metadata": {
      "internals": {
       "frag_helper": "fragment_end",
       "frag_number": 6,
       "slide_helper": "subslide_end"
      },
      "slide_helper": "subslide_end",
      "slideshow": {
       "slide_type": "-"
      }
     },
     "source": [
      "The resulting **DataFrame** has two index columns, `location` and `delay`.  "
     ]
    },
    {
     "cell_type": "markdown",
     "metadata": {
      "internals": {
       "frag_helper": "fragment_end",
       "frag_number": 6,
       "slide_type": "subslide"
      },
      "slideshow": {
       "slide_type": "subslide"
      }
     },
     "source": [
      "Now the `unstack()` function is used to create a column for each unique value of `delay`:"
     ]
    },
    {
     "cell_type": "code",
     "collapsed": false,
     "input": [
      "loc_delay_bytes = loc_delay_bytes.unstack('delay')"
     ],
     "language": "python",
     "metadata": {
      "internals": {
       "frag_helper": "fragment_end",
       "frag_number": 6
      },
      "slideshow": {
       "slide_type": "-"
      }
     },
     "outputs": [],
     "prompt_number": 41
    },
    {
     "cell_type": "markdown",
     "metadata": {
      "internals": {
       "frag_helper": "fragment_end",
       "frag_number": 6
      },
      "slideshow": {
       "slide_type": "-"
      }
     },
     "source": [
      "Let's fill in zeros for the combinations that were not present:"
     ]
    },
    {
     "cell_type": "code",
     "collapsed": false,
     "input": [
      "loc_delay_bytes = loc_delay_bytes.fillna(0)\n",
      "loc_delay_bytes"
     ],
     "language": "python",
     "metadata": {
      "internals": {
       "frag_helper": "fragment_end",
       "frag_number": 6,
       "slide_helper": "subslide_end"
      },
      "slide_helper": "slide_end",
      "slideshow": {
       "slide_type": "-"
      }
     },
     "outputs": [
      {
       "html": [
        "<div style=\"max-height:1000px;max-width:1500px;overflow:auto;\">\n",
        "<table border=\"1\" class=\"dataframe\">\n",
        "  <thead>\n",
        "    <tr>\n",
        "      <th></th>\n",
        "      <th colspan=\"3\" halign=\"left\">bytes</th>\n",
        "    </tr>\n",
        "    <tr>\n",
        "      <th>delay</th>\n",
        "      <th>fast</th>\n",
        "      <th>normal</th>\n",
        "      <th>slow</th>\n",
        "    </tr>\n",
        "    <tr>\n",
        "      <th>location</th>\n",
        "      <th></th>\n",
        "      <th></th>\n",
        "      <th></th>\n",
        "    </tr>\n",
        "  </thead>\n",
        "  <tbody>\n",
        "    <tr>\n",
        "      <th>Boston</th>\n",
        "      <td>     0</td>\n",
        "      <td> 24956</td>\n",
        "      <td> 16600</td>\n",
        "    </tr>\n",
        "    <tr>\n",
        "      <th>London</th>\n",
        "      <td>     0</td>\n",
        "      <td>     0</td>\n",
        "      <td> 58400</td>\n",
        "    </tr>\n",
        "    <tr>\n",
        "      <th>SanFran</th>\n",
        "      <td> 45550</td>\n",
        "      <td>     0</td>\n",
        "      <td>     0</td>\n",
        "    </tr>\n",
        "  </tbody>\n",
        "</table>\n",
        "<p>3 rows \u00d7 3 columns</p>\n",
        "</div>"
       ],
       "metadata": {},
       "output_type": "pyout",
       "prompt_number": 42,
       "text": [
        "          bytes               \n",
        "delay      fast  normal   slow\n",
        "location                      \n",
        "Boston        0   24956  16600\n",
        "London        0       0  58400\n",
        "SanFran   45550       0      0\n",
        "\n",
        "[3 rows x 3 columns]"
       ]
      }
     ],
     "prompt_number": 42
    },
    {
     "cell_type": "markdown",
     "metadata": {
      "internals": {
       "frag_helper": "fragment_end",
       "frag_number": 6,
       "slide_type": "subslide"
      },
      "slideshow": {
       "slide_type": "slide"
      }
     },
     "source": [
      "SteelScript for Python\n",
      "======================\n",
      "\n",
      "SteelScript is a collection of **Python packages** that provide libraries for collecting, processing, and visualizing data from a variety of sources.  Most packages focus on network performance.\n",
      "\n",
      "Getting SteelScript and the Wireshark extension\n",
      "-----------------------------------------------\n",
      "\n",
      "Core SteelScript is available on PyPI:\n",
      "\n",
      "    > pip install steelscript\n",
      "    > pip install steelscript.wireshark\n",
      "   \n",
      "The bleeding edge is available on github:\n",
      "\n",
      "* http://github.com/riverbed/steelscript/steelscript\n",
      "* http://github.com/riverbed/steelscript/steelscript.wireshark\n",
      "\n"
     ]
    },
    {
     "cell_type": "markdown",
     "metadata": {
      "internals": {
       "frag_helper": "fragment_end",
       "frag_number": 6
      },
      "slideshow": {
       "slide_type": "slide"
      }
     },
     "source": [
      "SteelScript: Reading Packet Capture Files\n",
      "========================================="
     ]
    },
    {
     "cell_type": "code",
     "collapsed": false,
     "input": [
      "from steelscript.wireshark.core.pcap import PcapFile\n",
      "\n",
      "pcap = PcapFile('/ws/traces/net-2009-11-18-17_35.pcap')\n",
      "pcap.info()\n",
      "print pcap.starttime\n",
      "print pcap.endtime\n",
      "print pcap.numpackets"
     ],
     "language": "python",
     "metadata": {
      "internals": {
       "frag_helper": "fragment_end",
       "frag_number": 6
      },
      "slideshow": {
       "slide_type": "-"
      }
     },
     "outputs": [
      {
       "output_type": "stream",
       "stream": "stdout",
       "text": [
        "2009-11-18 17:35:54-08:00\n",
        "2009-11-19 09:47:05-08:00\n",
        "302030\n"
       ]
      }
     ],
     "prompt_number": 43
    },
    {
     "cell_type": "markdown",
     "metadata": {
      "slideshow": {
       "slide_type": "subslide"
      }
     },
     "source": [
      "Perform a query on the PCAP file"
     ]
    },
    {
     "cell_type": "code",
     "collapsed": false,
     "input": [
      "pdf = pcap.query(['frame.time_epoch', 'ip.src', 'ip.dst', 'ip.len', 'ip.proto'], \n",
      "                starttime = pcap.starttime, \n",
      "                duration='1min',\n",
      "                as_dataframe=True)\n",
      "pdf = pdf[~(pdf['ip.len'].isnull())]\n",
      "print len(pdf), \"packets loaded\""
     ],
     "language": "python",
     "metadata": {
      "internals": {
       "frag_helper": "fragment_end",
       "frag_number": 6
      },
      "slideshow": {
       "slide_type": "-"
      }
     },
     "outputs": [
      {
       "output_type": "stream",
       "stream": "stdout",
       "text": [
        "5529 packets loaded\n"
       ]
      }
     ],
     "prompt_number": 44
    },
    {
     "cell_type": "code",
     "collapsed": false,
     "input": [
      "pdf[:10]"
     ],
     "language": "python",
     "metadata": {
      "internals": {
       "frag_helper": "fragment_end",
       "frag_number": 6
      },
      "slideshow": {
       "slide_type": "fragment"
      }
     },
     "outputs": [
      {
       "html": [
        "<div style=\"max-height:1000px;max-width:1500px;overflow:auto;\">\n",
        "<table border=\"1\" class=\"dataframe\">\n",
        "  <thead>\n",
        "    <tr style=\"text-align: right;\">\n",
        "      <th></th>\n",
        "      <th>frame.time_epoch</th>\n",
        "      <th>ip.src</th>\n",
        "      <th>ip.dst</th>\n",
        "      <th>ip.len</th>\n",
        "      <th>ip.proto</th>\n",
        "    </tr>\n",
        "  </thead>\n",
        "  <tbody>\n",
        "    <tr>\n",
        "      <th>0</th>\n",
        "      <td> 2009-11-18 17:35:54.369201-08:00</td>\n",
        "      <td> 137.226.34.227</td>\n",
        "      <td>  192.168.1.105</td>\n",
        "      <td> 1420</td>\n",
        "      <td> 6</td>\n",
        "    </tr>\n",
        "    <tr>\n",
        "      <th>1</th>\n",
        "      <td> 2009-11-18 17:35:54.369434-08:00</td>\n",
        "      <td> 137.226.34.227</td>\n",
        "      <td>  192.168.1.105</td>\n",
        "      <td> 1420</td>\n",
        "      <td> 6</td>\n",
        "    </tr>\n",
        "    <tr>\n",
        "      <th>2</th>\n",
        "      <td> 2009-11-18 17:35:54.369655-08:00</td>\n",
        "      <td>  192.168.1.105</td>\n",
        "      <td> 137.226.34.227</td>\n",
        "      <td>   40</td>\n",
        "      <td> 6</td>\n",
        "    </tr>\n",
        "    <tr>\n",
        "      <th>3</th>\n",
        "      <td> 2009-11-18 17:35:54.369702-08:00</td>\n",
        "      <td> 137.226.34.227</td>\n",
        "      <td>  192.168.1.105</td>\n",
        "      <td> 1420</td>\n",
        "      <td> 6</td>\n",
        "    </tr>\n",
        "    <tr>\n",
        "      <th>4</th>\n",
        "      <td> 2009-11-18 17:35:54.369713-08:00</td>\n",
        "      <td> 137.226.34.227</td>\n",
        "      <td>  192.168.1.105</td>\n",
        "      <td> 1420</td>\n",
        "      <td> 6</td>\n",
        "    </tr>\n",
        "    <tr>\n",
        "      <th>5</th>\n",
        "      <td> 2009-11-18 17:35:54.369723-08:00</td>\n",
        "      <td> 137.226.34.227</td>\n",
        "      <td>  192.168.1.105</td>\n",
        "      <td> 1332</td>\n",
        "      <td> 6</td>\n",
        "    </tr>\n",
        "    <tr>\n",
        "      <th>6</th>\n",
        "      <td> 2009-11-18 17:35:54.369733-08:00</td>\n",
        "      <td> 137.226.34.227</td>\n",
        "      <td>  192.168.1.105</td>\n",
        "      <td> 1420</td>\n",
        "      <td> 6</td>\n",
        "    </tr>\n",
        "    <tr>\n",
        "      <th>7</th>\n",
        "      <td> 2009-11-18 17:35:54.369896-08:00</td>\n",
        "      <td>  192.168.1.105</td>\n",
        "      <td> 137.226.34.227</td>\n",
        "      <td>   40</td>\n",
        "      <td> 6</td>\n",
        "    </tr>\n",
        "    <tr>\n",
        "      <th>8</th>\n",
        "      <td> 2009-11-18 17:35:54.369947-08:00</td>\n",
        "      <td> 137.226.34.227</td>\n",
        "      <td>  192.168.1.105</td>\n",
        "      <td> 1420</td>\n",
        "      <td> 6</td>\n",
        "    </tr>\n",
        "    <tr>\n",
        "      <th>9</th>\n",
        "      <td> 2009-11-18 17:35:54.369986-08:00</td>\n",
        "      <td> 137.226.34.227</td>\n",
        "      <td>  192.168.1.105</td>\n",
        "      <td> 1420</td>\n",
        "      <td> 6</td>\n",
        "    </tr>\n",
        "  </tbody>\n",
        "</table>\n",
        "<p>10 rows \u00d7 5 columns</p>\n",
        "</div>"
       ],
       "metadata": {},
       "output_type": "pyout",
       "prompt_number": 45,
       "text": [
        "                   frame.time_epoch          ip.src          ip.dst  ip.len  \\\n",
        "0  2009-11-18 17:35:54.369201-08:00  137.226.34.227   192.168.1.105    1420   \n",
        "1  2009-11-18 17:35:54.369434-08:00  137.226.34.227   192.168.1.105    1420   \n",
        "2  2009-11-18 17:35:54.369655-08:00   192.168.1.105  137.226.34.227      40   \n",
        "3  2009-11-18 17:35:54.369702-08:00  137.226.34.227   192.168.1.105    1420   \n",
        "4  2009-11-18 17:35:54.369713-08:00  137.226.34.227   192.168.1.105    1420   \n",
        "5  2009-11-18 17:35:54.369723-08:00  137.226.34.227   192.168.1.105    1332   \n",
        "6  2009-11-18 17:35:54.369733-08:00  137.226.34.227   192.168.1.105    1420   \n",
        "7  2009-11-18 17:35:54.369896-08:00   192.168.1.105  137.226.34.227      40   \n",
        "8  2009-11-18 17:35:54.369947-08:00  137.226.34.227   192.168.1.105    1420   \n",
        "9  2009-11-18 17:35:54.369986-08:00  137.226.34.227   192.168.1.105    1420   \n",
        "\n",
        "   ip.proto  \n",
        "0         6  \n",
        "1         6  \n",
        "2         6  \n",
        "3         6  \n",
        "4         6  \n",
        "5         6  \n",
        "6         6  \n",
        "7         6  \n",
        "8         6  \n",
        "9         6  \n",
        "\n",
        "[10 rows x 5 columns]"
       ]
      }
     ],
     "prompt_number": 45
    },
    {
     "cell_type": "markdown",
     "metadata": {
      "slideshow": {
       "slide_type": "subslide"
      }
     },
     "source": [
      "Examine some characteristics of the data:"
     ]
    },
    {
     "cell_type": "code",
     "collapsed": false,
     "input": [
      "pdf['ip.proto'].unique()"
     ],
     "language": "python",
     "metadata": {
      "internals": {
       "frag_helper": "fragment_end",
       "frag_number": 6
      },
      "slideshow": {
       "slide_type": "-"
      }
     },
     "outputs": [
      {
       "metadata": {},
       "output_type": "pyout",
       "prompt_number": 46,
       "text": [
        "array([  6.,  17.])"
       ]
      }
     ],
     "prompt_number": 46
    },
    {
     "cell_type": "code",
     "collapsed": false,
     "input": [
      "tcpdf = pdf[pdf['ip.proto'] == 6]\n",
      "len(tcpdf)"
     ],
     "language": "python",
     "metadata": {
      "internals": {
       "frag_helper": "fragment_end",
       "frag_number": 6
      },
      "slideshow": {
       "slide_type": "fragment"
      }
     },
     "outputs": [
      {
       "metadata": {},
       "output_type": "pyout",
       "prompt_number": 47,
       "text": [
        "5527"
       ]
      }
     ],
     "prompt_number": 47
    },
    {
     "cell_type": "markdown",
     "metadata": {
      "internals": {
       "frag_helper": "fragment_end",
       "frag_number": 6
      },
      "slideshow": {
       "slide_type": "fragment"
      }
     },
     "source": [
      "Unique source IPs, or dest IPs:"
     ]
    },
    {
     "cell_type": "code",
     "collapsed": false,
     "input": [
      "pdf['ip.src'].unique()"
     ],
     "language": "python",
     "metadata": {
      "internals": {
       "frag_helper": "fragment_end",
       "frag_number": 6
      },
      "slideshow": {
       "slide_type": "fragment"
      }
     },
     "outputs": [
      {
       "metadata": {},
       "output_type": "pyout",
       "prompt_number": 48,
       "text": [
        "array(['137.226.34.227', '192.168.1.105', '192.168.1.1'], dtype=object)"
       ]
      }
     ],
     "prompt_number": 48
    },
    {
     "cell_type": "code",
     "collapsed": false,
     "input": [
      "pdf['ip.dst'].unique()"
     ],
     "language": "python",
     "metadata": {
      "internals": {
       "frag_helper": "fragment_end",
       "frag_number": 6
      },
      "slideshow": {
       "slide_type": "fragment"
      }
     },
     "outputs": [
      {
       "metadata": {},
       "output_type": "pyout",
       "prompt_number": 49,
       "text": [
        "array(['192.168.1.105', '137.226.34.227', '224.0.0.1'], dtype=object)"
       ]
      }
     ],
     "prompt_number": 49
    },
    {
     "cell_type": "markdown",
     "metadata": {
      "slideshow": {
       "slide_type": "slide"
      }
     },
     "source": [
      "Examine the `frame.time_epoch` column:"
     ]
    },
    {
     "cell_type": "code",
     "collapsed": false,
     "input": [
      "s = pdf['frame.time_epoch']"
     ],
     "language": "python",
     "metadata": {
      "internals": {
       "frag_helper": "fragment_end",
       "frag_number": 6
      },
      "slideshow": {
       "slide_type": "-"
      }
     },
     "outputs": [],
     "prompt_number": 50
    },
    {
     "cell_type": "code",
     "collapsed": false,
     "input": [
      "s.describe()"
     ],
     "language": "python",
     "metadata": {
      "internals": {
       "frag_helper": "fragment_end",
       "frag_number": 6
      },
      "slideshow": {
       "slide_type": "-"
      }
     },
     "outputs": [
      {
       "metadata": {},
       "output_type": "pyout",
       "prompt_number": 51,
       "text": [
        "count                                 5529\n",
        "unique                                5529\n",
        "top       2009-11-18 17:36:49.131404-08:00\n",
        "freq                                     1\n",
        "Name: frame.time_epoch, dtype: object"
       ]
      }
     ],
     "prompt_number": 51
    },
    {
     "cell_type": "markdown",
     "metadata": {
      "internals": {
       "frag_helper": "fragment_end",
       "frag_number": 6
      },
      "slideshow": {
       "slide_type": "slide"
      }
     },
     "source": [
      "SteelScript: Resampling\n",
      "=======================\n",
      "\n",
      "Pandas supports a number of functions specifically designed for time-series data.  Resampling is particularly useful.  \n",
      "\n",
      "The current data set `pdf` contains one row per packet received over one minute.  Let's compute the data rate in bits/sec at 1 second granularity.\n",
      "\n",
      "Step 1 - Time Index\n",
      "-------------------\n",
      "Resampling requires that **DataFrame** object have a datetime column as an index.  The return value of the above ``pcap.query()`` autmatically converts the `frame.time_epoch` column into a datetime, now set it as the index:"
     ]
    },
    {
     "cell_type": "code",
     "collapsed": false,
     "input": [
      "print \"frame.time_epoch:\", pdf['frame.time_epoch'].dtype\n",
      "pdf_indexed = pdf.set_index('frame.time_epoch')"
     ],
     "language": "python",
     "metadata": {
      "internals": {
       "frag_helper": "fragment_end",
       "frag_number": 6
      },
      "slideshow": {
       "slide_type": "-"
      }
     },
     "outputs": [
      {
       "output_type": "stream",
       "stream": "stdout",
       "text": [
        "frame.time_epoch: object\n"
       ]
      }
     ],
     "prompt_number": 52
    },
    {
     "cell_type": "markdown",
     "metadata": {
      "internals": {
       "frag_helper": "fragment_end",
       "frag_number": 6
      },
      "slideshow": {
       "slide_type": "subslide"
      }
     },
     "source": [
      "Step 2 - Resample\n",
      "-----------------\n",
      "Resample at 1second granularity, summing all ip.len values."
     ]
    },
    {
     "cell_type": "code",
     "collapsed": false,
     "input": [
      "pdf_1sec = pdf_indexed.resample('1s', {'ip.len': 'sum'})"
     ],
     "language": "python",
     "metadata": {
      "internals": {
       "frag_helper": "fragment_end",
       "frag_number": 6
      },
      "slideshow": {
       "slide_type": "-"
      }
     },
     "outputs": [],
     "prompt_number": 53
    },
    {
     "cell_type": "code",
     "collapsed": false,
     "input": [
      "pdf_1sec.plot()"
     ],
     "language": "python",
     "metadata": {
      "internals": {
       "frag_helper": "fragment_end",
       "frag_number": 6
      },
      "slideshow": {
       "slide_type": "-"
      }
     },
     "outputs": [
      {
       "metadata": {},
       "output_type": "pyout",
       "prompt_number": 54,
       "text": [
        "<matplotlib.axes.AxesSubplot at 0x119728550>"
       ]
      },
      {
       "metadata": {},
       "output_type": "display_data",
       "png": "[encoded data removed]",
       "text": [
        "<matplotlib.figure.Figure at 0x112622050>"
       ]
      }
     ],
     "prompt_number": 54
    },
    {
     "cell_type": "markdown",
     "metadata": {
      "internals": {
       "frag_helper": "fragment_end",
       "frag_number": 6
      },
      "slideshow": {
       "slide_type": "subslide"
      }
     },
     "source": [
      "Step 3 - Compute bps\n",
      "--------------------"
     ]
    },
    {
     "cell_type": "code",
     "collapsed": false,
     "input": [
      "pdf_1sec['bps'] = pdf_1sec['ip.len'] * 8"
     ],
     "language": "python",
     "metadata": {
      "internals": {
       "frag_helper": "fragment_end",
       "frag_number": 6
      },
      "slideshow": {
       "slide_type": "-"
      }
     },
     "outputs": [],
     "prompt_number": 55
    },
    {
     "cell_type": "code",
     "collapsed": false,
     "input": [
      "pdf_1sec.plot(y='bps')"
     ],
     "language": "python",
     "metadata": {
      "internals": {
       "frag_helper": "fragment_end",
       "frag_number": 6
      },
      "slideshow": {
       "slide_type": "-"
      }
     },
     "outputs": [
      {
       "metadata": {},
       "output_type": "pyout",
       "prompt_number": 56,
       "text": [
        "<matplotlib.axes.AxesSubplot at 0x119772f50>"
       ]
      },
      {
       "metadata": {},
       "output_type": "display_data",
       "png": "[encoded data removed]",
       "text": [
        "<matplotlib.figure.Figure at 0x119788d90>"
       ]
      }
     ],
     "prompt_number": 56
    },
    {
     "cell_type": "markdown",
     "metadata": {
      "internals": {
       "frag_helper": "fragment_end",
       "frag_number": 6
      },
      "slideshow": {
       "slide_type": "subslide"
      }
     },
     "source": [
      "Defining Helper Functions\n",
      "-------------------------"
     ]
    },
    {
     "cell_type": "code",
     "collapsed": false,
     "input": [
      "from steelscript.common.timeutils import parse_timedelta, timedelta_total_seconds\n",
      "\n",
      "def query(pcap, starttime, duration):\n",
      "    \"\"\"Run a query to collect frame time and ip.len, filter for IP.\"\"\"\n",
      "    _df = pcap.query(['frame.time_epoch', 'ip.len'], \\\n",
      "                     starttime=pcap.starttime, duration=duration, \\\n",
      "                     as_dataframe=True)\n",
      "    _df = _df[~(_df['ip.len'].isnull())]\n",
      "    return _df"
     ],
     "language": "python",
     "metadata": {
      "slideshow": {
       "slide_type": "-"
      }
     },
     "outputs": [],
     "prompt_number": 57
    },
    {
     "cell_type": "code",
     "collapsed": false,
     "input": [
      "def plot_bps(_df, start, duration, resolution):\n",
      "    \"\"\"Plot bps for a dataframe over the given range and resolution.\"\"\"\n",
      "    # Filter the df to the requested time range\n",
      "    end = start + parse_timedelta(duration)    \n",
      "    _df = _df[((_df['frame.time_epoch'] >= start) &\n",
      "               (_df['frame.time_epoch'] < end))]\n",
      "\n",
      "    # set the index\n",
      "    _df = _df.set_index('frame.time_epoch')\n",
      "        \n",
      "    # convert a string resolution like '10s' into numeric seconds    \n",
      "    resolution = (timedelta_total_seconds(parse_timedelta(resolution)))\n",
      "\n",
      "    # Resample\n",
      "    _df = _df.resample('%ds' % resolution, {'ip.len': 'sum'})\n",
      "\n",
      "    # Compute BPS\n",
      "    _df['bps'] = _df['ip.len'] * 8 / float(resolution)\n",
      "                     \n",
      "    # Plot the result\n",
      "    _df.plot(y='bps')"
     ],
     "language": "python",
     "metadata": {
      "internals": {
       "frag_helper": "fragment_end",
       "frag_number": 6
      },
      "slideshow": {
       "slide_type": "subslide"
      }
     },
     "outputs": [],
     "prompt_number": 58
    },
    {
     "cell_type": "code",
     "collapsed": false,
     "input": [
      "%time pdf = query(pcap, starttime=pcap.starttime, duration='6h')\n",
      "print len(pdf), \"packets\""
     ],
     "language": "python",
     "metadata": {
      "internals": {
       "frag_helper": "fragment_end",
       "frag_number": 6
      },
      "slideshow": {
       "slide_type": "fragment"
      }
     },
     "outputs": [
      {
       "output_type": "stream",
       "stream": "stdout",
       "text": [
        "CPU times: user 8.7 s, sys: 3.06 s, total: 11.8 s\n",
        "Wall time: 31.6 s\n",
        "272901 packets\n"
       ]
      }
     ],
     "prompt_number": 59
    },
    {
     "cell_type": "code",
     "collapsed": false,
     "input": [
      "%time plot_bps(pdf, pcap.starttime, '6h', '15m')"
     ],
     "language": "python",
     "metadata": {
      "internals": {
       "frag_helper": "fragment_end",
       "frag_number": 6
      },
      "slideshow": {
       "slide_type": "subslide"
      }
     },
     "outputs": [
      {
       "output_type": "stream",
       "stream": "stdout",
       "text": [
        "CPU times: user 796 ms, sys: 9.4 ms, total: 805 ms\n",
        "Wall time: 804 ms\n"
       ]
      },
      {
       "metadata": {},
       "output_type": "display_data",
       "png": "[encoded data removed]",
       "text": [
        "<matplotlib.figure.Figure at 0x119828c10>"
       ]
      }
     ],
     "prompt_number": 60
    },
    {
     "cell_type": "code",
     "collapsed": false,
     "input": [
      "%time plot_bps(pdf, pcap.starttime, '6h', '1m')"
     ],
     "language": "python",
     "metadata": {
      "internals": {
       "frag_helper": "fragment_end",
       "frag_number": 6
      },
      "slideshow": {
       "slide_type": "subslide"
      }
     },
     "outputs": [
      {
       "output_type": "stream",
       "stream": "stdout",
       "text": [
        "CPU times: user 815 ms, sys: 4.82 ms, total: 820 ms\n",
        "Wall time: 818 ms\n"
       ]
      },
      {
       "metadata": {},
       "output_type": "display_data",
       "png": "[encoded data removed]",
       "text": [
        "<matplotlib.figure.Figure at 0x11a3ebf10>"
       ]
      }
     ],
     "prompt_number": 61
    },
    {
     "cell_type": "code",
     "collapsed": false,
     "input": [
      "%time plot_bps(pdf, pcap.starttime, '1h', '1m')"
     ],
     "language": "python",
     "metadata": {
      "internals": {
       "frag_helper": "fragment_end",
       "frag_number": 6
      },
      "slideshow": {
       "slide_type": "subslide"
      }
     },
     "outputs": [
      {
       "output_type": "stream",
       "stream": "stdout",
       "text": [
        "CPU times: user 776 ms, sys: 4.8 ms, total: 781 ms\n",
        "Wall time: 779 ms\n"
       ]
      },
      {
       "metadata": {},
       "output_type": "display_data",
       "png": "[encoded data removed]",
       "text": [
        "<matplotlib.figure.Figure at 0x11a41bf50>"
       ]
      }
     ],
     "prompt_number": 62
    },
    {
     "cell_type": "code",
     "collapsed": false,
     "input": [
      "%time plot_bps(pdf, pcap.starttime, '1h', '1s')"
     ],
     "language": "python",
     "metadata": {
      "internals": {
       "frag_helper": "fragment_end",
       "frag_number": 6
      },
      "slideshow": {
       "slide_type": "subslide"
      }
     },
     "outputs": [
      {
       "output_type": "stream",
       "stream": "stdout",
       "text": [
        "CPU times: user 955 ms, sys: 5.42 ms, total: 961 ms\n",
        "Wall time: 959 ms\n"
       ]
      },
      {
       "metadata": {},
       "output_type": "display_data",
       "png": "[encoded data removed]",
       "text": [
        "<matplotlib.figure.Figure at 0x119809150>"
       ]
      }
     ],
     "prompt_number": 63
    },
    {
     "cell_type": "code",
     "collapsed": false,
     "input": [
      "import datetime\n",
      "from dateutil.parser import parse\n",
      "import steelscript.wireshark.core.pcap\n",
      "reload(steelscript.wireshark.core.pcap)\n",
      "from steelscript.wireshark.core.pcap import *"
     ],
     "language": "python",
     "metadata": {
      "internals": {
       "frag_helper": "fragment_end",
       "frag_number": 6
      },
      "slideshow": {
       "slide_type": "skip"
      }
     },
     "outputs": [],
     "prompt_number": 64
    },
    {
     "cell_type": "markdown",
     "metadata": {
      "internals": {
       "frag_helper": "fragment_end",
       "frag_number": 6
      },
      "slideshow": {
       "slide_type": "slide"
      }
     },
     "source": [
      "SteelScript: Computing Client/Server Metrics\n",
      "============================================\n",
      "\n",
      "Now let's take a more complex example of rearranging the data.\n",
      "\n",
      "* Incoming data is unidirectional data based on ``src/dst``\n",
      "* Determine ``cli/srv`` based on lower port number\n",
      "* Compute server-to-client (s2c) and client-to-server (c2s) bytes\n",
      "* Rollup aggregate metrics\n",
      "* Graph top 3 conversations"
     ]
    },
    {
     "cell_type": "markdown",
     "metadata": {},
     "source": [
      "First, let's find the right field for port number.  The **TSharkFields** class supports a `find()` method to look for fields by protocol, name, or description.  "
     ]
    },
    {
     "cell_type": "code",
     "collapsed": false,
     "input": [
      "from steelscript.wireshark.core.pcap import TSharkFields, PcapFile\n",
      "\n",
      "pcap = PcapFile('/ws/traces/net-2009-11-18-17_35.pcap')\n",
      "\n",
      "tf = TSharkFields.instance()\n",
      "tf.find(protocol='tcp', name_re='port')"
     ],
     "language": "python",
     "metadata": {
      "internals": {
       "frag_helper": "fragment_end",
       "frag_number": 6
      },
      "slideshow": {
       "slide_type": "subslide"
      }
     },
     "outputs": [
      {
       "metadata": {},
       "output_type": "pyout",
       "prompt_number": 65,
       "text": [
        "[<TSharkField tcp.port, FT_UINT16>,\n",
        " <TSharkField tcp.options.rvbd.trpy.src.port, FT_UINT16>,\n",
        " <TSharkField tcp.analysis.reused_ports, FT_NONE>,\n",
        " <TSharkField tcp.options.rvbd.trpy.client.port, FT_UINT16>,\n",
        " <TSharkField tcp.dstport, FT_UINT16>,\n",
        " <TSharkField tcp.srcport, FT_UINT16>,\n",
        " <TSharkField tcp.options.mptcp.port, FT_UINT16>,\n",
        " <TSharkField tcp.options.rvbd.probe.proxy.port, FT_UINT16>,\n",
        " <TSharkField tcp.options.rvbd.trpy.dst.port, FT_UINT16>]"
       ]
      }
     ],
     "prompt_number": 65
    },
    {
     "cell_type": "markdown",
     "metadata": {
      "slideshow": {
       "slide_type": "subslide"
      }
     },
     "source": [
      "Query the PCAP file for the necessary raw data, compute cli/srv/c2s/s2c:"
     ]
    },
    {
     "cell_type": "code",
     "collapsed": false,
     "input": [
      "%%time\n",
      "pdf = pcap.query(['frame.time_epoch', 'ip.src', 'ip.dst', 'ip.len',\n",
      "                  'tcp.srcport', 'tcp.dstport'],\n",
      "                 starttime=pcap.starttime, duration='1m',\n",
      "                 as_dataframe=True)"
     ],
     "language": "python",
     "metadata": {
      "slideshow": {
       "slide_type": "-"
      }
     },
     "outputs": [
      {
       "output_type": "stream",
       "stream": "stdout",
       "text": [
        "CPU times: user 14.2 s, sys: 7.88 s, total: 22.1 s\n",
        "Wall time: 37.4 s\n"
       ]
      }
     ],
     "prompt_number": 66
    },
    {
     "cell_type": "code",
     "collapsed": false,
     "input": [
      "%%time\n",
      "# Limit to TCP Traffic\n",
      "istcp = ~(pdf['tcp.srcport'].isnull())\n",
      "pdf = pdf[istcp]\n",
      "\n",
      "# Assume lower port is the client\n",
      "srccli = pdf['tcp.srcport'] > pdf['tcp.dstport']"
     ],
     "language": "python",
     "metadata": {
      "slideshow": {
       "slide_type": "fragment"
      }
     },
     "outputs": [
      {
       "output_type": "stream",
       "stream": "stdout",
       "text": [
        "CPU times: user 48.7 ms, sys: 11.2 ms, total: 59.8 ms\n",
        "Wall time: 58.6 ms\n"
       ]
      }
     ],
     "prompt_number": 67
    },
    {
     "cell_type": "code",
     "collapsed": false,
     "input": [
      "%%time\n",
      "# Initialize columns assuming server->client \n",
      "pdf['ip.cli'] = pdf['ip.dst']\n",
      "pdf['ip.srv'] = pdf['ip.src']\n",
      "pdf['tcp.srvport'] = pdf['tcp.srcport']\n",
      "pdf['c2s'] = 0\n",
      "pdf['s2c'] = pdf['ip.len']"
     ],
     "language": "python",
     "metadata": {
      "slideshow": {
       "slide_type": "subslide"
      }
     },
     "outputs": [
      {
       "output_type": "stream",
       "stream": "stdout",
       "text": [
        "CPU times: user 29.3 ms, sys: 4.29 ms, total: 33.5 ms\n",
        "Wall time: 32.2 ms\n"
       ]
      }
     ],
     "prompt_number": 68
    },
    {
     "cell_type": "code",
     "collapsed": false,
     "input": [
      "%%time\n",
      "# Then override for client->server\n",
      "pdf.ix[srccli, 'ip.cli']      = pdf.ix[srccli, 'ip.src']\n",
      "pdf.ix[srccli, 'ip.srv']      = pdf.ix[srccli, 'ip.dst']\n",
      "pdf.ix[srccli, 'tcp.srvport'] = pdf['tcp.dstport']\n",
      "pdf.ix[srccli, 'c2s']         = pdf.ix[srccli, 'ip.len']\n",
      "pdf.ix[srccli, 's2c']         = 0"
     ],
     "language": "python",
     "metadata": {
      "internals": {
       "frag_helper": "fragment_end",
       "frag_number": 6
      },
      "slideshow": {
       "slide_type": "fragment"
      }
     },
     "outputs": [
      {
       "output_type": "stream",
       "stream": "stdout",
       "text": [
        "CPU times: user 282 ms, sys: 31.3 ms, total: 314 ms\n",
        "Wall time: 312 ms\n"
       ]
      }
     ],
     "prompt_number": 69
    },
    {
     "cell_type": "markdown",
     "metadata": {
      "internals": {
       "frag_helper": "fragment_end",
       "frag_number": 6
      },
      "slideshow": {
       "slide_type": "subslide"
      }
     },
     "source": [
      "Strip away the src/dst columns in favor of the cli/srv columns"
     ]
    },
    {
     "cell_type": "code",
     "collapsed": false,
     "input": [
      "pdf = pdf.ix[:, ['frame.time_epoch', 'ip.cli', 'ip.srv', 'tcp.srvport', \n",
      "                 'ip.len', 'c2s', 's2c']]\n",
      "pdf[:5]"
     ],
     "language": "python",
     "metadata": {
      "internals": {
       "frag_helper": "fragment_end",
       "frag_number": 6
      },
      "slideshow": {
       "slide_type": "-"
      }
     },
     "outputs": [
      {
       "html": [
        "<div style=\"max-height:1000px;max-width:1500px;overflow:auto;\">\n",
        "<table border=\"1\" class=\"dataframe\">\n",
        "  <thead>\n",
        "    <tr style=\"text-align: right;\">\n",
        "      <th></th>\n",
        "      <th>frame.time_epoch</th>\n",
        "      <th>ip.cli</th>\n",
        "      <th>ip.srv</th>\n",
        "      <th>tcp.srvport</th>\n",
        "      <th>ip.len</th>\n",
        "      <th>c2s</th>\n",
        "      <th>s2c</th>\n",
        "    </tr>\n",
        "  </thead>\n",
        "  <tbody>\n",
        "    <tr>\n",
        "      <th>0</th>\n",
        "      <td> 2009-11-18 17:35:54.369201-08:00</td>\n",
        "      <td> 192.168.1.105</td>\n",
        "      <td> 137.226.34.227</td>\n",
        "      <td> 80</td>\n",
        "      <td> 1420</td>\n",
        "      <td>  0</td>\n",
        "      <td> 1420</td>\n",
        "    </tr>\n",
        "    <tr>\n",
        "      <th>1</th>\n",
        "      <td> 2009-11-18 17:35:54.369434-08:00</td>\n",
        "      <td> 192.168.1.105</td>\n",
        "      <td> 137.226.34.227</td>\n",
        "      <td> 80</td>\n",
        "      <td> 1420</td>\n",
        "      <td>  0</td>\n",
        "      <td> 1420</td>\n",
        "    </tr>\n",
        "    <tr>\n",
        "      <th>2</th>\n",
        "      <td> 2009-11-18 17:35:54.369655-08:00</td>\n",
        "      <td> 192.168.1.105</td>\n",
        "      <td> 137.226.34.227</td>\n",
        "      <td> 80</td>\n",
        "      <td>   40</td>\n",
        "      <td> 40</td>\n",
        "      <td>    0</td>\n",
        "    </tr>\n",
        "    <tr>\n",
        "      <th>3</th>\n",
        "      <td> 2009-11-18 17:35:54.369702-08:00</td>\n",
        "      <td> 192.168.1.105</td>\n",
        "      <td> 137.226.34.227</td>\n",
        "      <td> 80</td>\n",
        "      <td> 1420</td>\n",
        "      <td>  0</td>\n",
        "      <td> 1420</td>\n",
        "    </tr>\n",
        "    <tr>\n",
        "      <th>4</th>\n",
        "      <td> 2009-11-18 17:35:54.369713-08:00</td>\n",
        "      <td> 192.168.1.105</td>\n",
        "      <td> 137.226.34.227</td>\n",
        "      <td> 80</td>\n",
        "      <td> 1420</td>\n",
        "      <td>  0</td>\n",
        "      <td> 1420</td>\n",
        "    </tr>\n",
        "  </tbody>\n",
        "</table>\n",
        "<p>5 rows \u00d7 7 columns</p>\n",
        "</div>"
       ],
       "metadata": {},
       "output_type": "pyout",
       "prompt_number": 70,
       "text": [
        "                   frame.time_epoch         ip.cli          ip.srv  \\\n",
        "0  2009-11-18 17:35:54.369201-08:00  192.168.1.105  137.226.34.227   \n",
        "1  2009-11-18 17:35:54.369434-08:00  192.168.1.105  137.226.34.227   \n",
        "2  2009-11-18 17:35:54.369655-08:00  192.168.1.105  137.226.34.227   \n",
        "3  2009-11-18 17:35:54.369702-08:00  192.168.1.105  137.226.34.227   \n",
        "4  2009-11-18 17:35:54.369713-08:00  192.168.1.105  137.226.34.227   \n",
        "\n",
        "   tcp.srvport  ip.len  c2s   s2c  \n",
        "0           80    1420    0  1420  \n",
        "1           80    1420    0  1420  \n",
        "2           80      40   40     0  \n",
        "3           80    1420    0  1420  \n",
        "4           80    1420    0  1420  \n",
        "\n",
        "[5 rows x 7 columns]"
       ]
      }
     ],
     "prompt_number": 70
    },
    {
     "cell_type": "markdown",
     "metadata": {
      "internals": {
       "frag_helper": "fragment_end",
       "frag_number": 6
      },
      "slideshow": {
       "slide_type": "subslide"
      }
     },
     "source": [
      "Now, we can compute metrics for each unique host-pair:"
     ]
    },
    {
     "cell_type": "code",
     "collapsed": false,
     "input": [
      "cs = (pdf.groupby(['ip.cli', 'ip.srv', 'tcp.srvport'])\n",
      "         .aggregate({'c2s': 'sum',\n",
      "                     's2c': 'sum', \n",
      "                     'ip.len': 'sum'}))"
     ],
     "language": "python",
     "metadata": {
      "internals": {
       "frag_helper": "fragment_end",
       "frag_number": 6
      },
      "slideshow": {
       "slide_type": "-"
      }
     },
     "outputs": [],
     "prompt_number": 71
    },
    {
     "cell_type": "code",
     "collapsed": false,
     "input": [
      "cs.sort('ip.len', ascending=False)[:10]"
     ],
     "language": "python",
     "metadata": {
      "internals": {
       "frag_helper": "fragment_end",
       "frag_number": 6
      },
      "slideshow": {
       "slide_type": "fragment"
      }
     },
     "outputs": [
      {
       "html": [
        "<div style=\"max-height:1000px;max-width:1500px;overflow:auto;\">\n",
        "<table border=\"1\" class=\"dataframe\">\n",
        "  <thead>\n",
        "    <tr style=\"text-align: right;\">\n",
        "      <th></th>\n",
        "      <th></th>\n",
        "      <th></th>\n",
        "      <th>c2s</th>\n",
        "      <th>ip.len</th>\n",
        "      <th>s2c</th>\n",
        "    </tr>\n",
        "    <tr>\n",
        "      <th>ip.cli</th>\n",
        "      <th>ip.srv</th>\n",
        "      <th>tcp.srvport</th>\n",
        "      <th></th>\n",
        "      <th></th>\n",
        "      <th></th>\n",
        "    </tr>\n",
        "  </thead>\n",
        "  <tbody>\n",
        "    <tr>\n",
        "      <th rowspan=\"7\" valign=\"top\">192.168.1.105</th>\n",
        "      <th>137.226.34.227</th>\n",
        "      <th>80</th>\n",
        "      <td> 1888380</td>\n",
        "      <td> 127030608</td>\n",
        "      <td> 125142228</td>\n",
        "    </tr>\n",
        "    <tr>\n",
        "      <th>65.54.95.7</th>\n",
        "      <th>80</th>\n",
        "      <td>  647104</td>\n",
        "      <td>  79579509</td>\n",
        "      <td>  78932405</td>\n",
        "    </tr>\n",
        "    <tr>\n",
        "      <th>65.54.95.201</th>\n",
        "      <th>80</th>\n",
        "      <td>  194283</td>\n",
        "      <td>  27386115</td>\n",
        "      <td>  27191832</td>\n",
        "    </tr>\n",
        "    <tr>\n",
        "      <th>68.142.123.21</th>\n",
        "      <th>80</th>\n",
        "      <td>  165452</td>\n",
        "      <td>  14803514</td>\n",
        "      <td>  14638062</td>\n",
        "    </tr>\n",
        "    <tr>\n",
        "      <th>65.54.95.209</th>\n",
        "      <th>80</th>\n",
        "      <td>   73449</td>\n",
        "      <td>   9929531</td>\n",
        "      <td>   9856082</td>\n",
        "    </tr>\n",
        "    <tr>\n",
        "      <th>208.111.129.62</th>\n",
        "      <th>80</th>\n",
        "      <td>   72190</td>\n",
        "      <td>   5422145</td>\n",
        "      <td>   5349955</td>\n",
        "    </tr>\n",
        "    <tr>\n",
        "      <th>68.142.123.31</th>\n",
        "      <th>80</th>\n",
        "      <td>   64617</td>\n",
        "      <td>   5085691</td>\n",
        "      <td>   5021074</td>\n",
        "    </tr>\n",
        "    <tr>\n",
        "      <th>192.168.1.102</th>\n",
        "      <th>207.171.185.129</th>\n",
        "      <th>80</th>\n",
        "      <td>   25447</td>\n",
        "      <td>   3322205</td>\n",
        "      <td>   3296758</td>\n",
        "    </tr>\n",
        "    <tr>\n",
        "      <th>192.168.1.104</th>\n",
        "      <th>87.106.1.47</th>\n",
        "      <th>80</th>\n",
        "      <td>   30364</td>\n",
        "      <td>   1468823</td>\n",
        "      <td>   1438459</td>\n",
        "    </tr>\n",
        "    <tr>\n",
        "      <th>192.168.1.105</th>\n",
        "      <th>65.54.95.185</th>\n",
        "      <th>80</th>\n",
        "      <td>   12475</td>\n",
        "      <td>    948700</td>\n",
        "      <td>    936225</td>\n",
        "    </tr>\n",
        "  </tbody>\n",
        "</table>\n",
        "<p>10 rows \u00d7 3 columns</p>\n",
        "</div>"
       ],
       "metadata": {},
       "output_type": "pyout",
       "prompt_number": 72,
       "text": [
        "                                               c2s     ip.len        s2c\n",
        "ip.cli        ip.srv          tcp.srvport                               \n",
        "192.168.1.105 137.226.34.227  80           1888380  127030608  125142228\n",
        "              65.54.95.7      80            647104   79579509   78932405\n",
        "              65.54.95.201    80            194283   27386115   27191832\n",
        "              68.142.123.21   80            165452   14803514   14638062\n",
        "              65.54.95.209    80             73449    9929531    9856082\n",
        "              208.111.129.62  80             72190    5422145    5349955\n",
        "              68.142.123.31   80             64617    5085691    5021074\n",
        "192.168.1.102 207.171.185.129 80             25447    3322205    3296758\n",
        "192.168.1.104 87.106.1.47     80             30364    1468823    1438459\n",
        "192.168.1.105 65.54.95.185    80             12475     948700     936225\n",
        "\n",
        "[10 rows x 3 columns]"
       ]
      }
     ],
     "prompt_number": 72
    },
    {
     "cell_type": "markdown",
     "metadata": {
      "internals": {
       "frag_helper": "fragment_end",
       "frag_number": 6
      },
      "slideshow": {
       "slide_type": "subslide"
      }
     },
     "source": [
      "Pick the top 10 conversations, this will be used later for filtering:"
     ]
    },
    {
     "cell_type": "code",
     "collapsed": false,
     "input": [
      "top = cs.sort('ip.len', ascending=False)[:3]\n",
      "top"
     ],
     "language": "python",
     "metadata": {
      "internals": {
       "frag_helper": "fragment_end",
       "frag_number": 6
      },
      "slideshow": {
       "slide_type": "-"
      }
     },
     "outputs": [
      {
       "html": [
        "<div style=\"max-height:1000px;max-width:1500px;overflow:auto;\">\n",
        "<table border=\"1\" class=\"dataframe\">\n",
        "  <thead>\n",
        "    <tr style=\"text-align: right;\">\n",
        "      <th></th>\n",
        "      <th></th>\n",
        "      <th></th>\n",
        "      <th>c2s</th>\n",
        "      <th>ip.len</th>\n",
        "      <th>s2c</th>\n",
        "    </tr>\n",
        "    <tr>\n",
        "      <th>ip.cli</th>\n",
        "      <th>ip.srv</th>\n",
        "      <th>tcp.srvport</th>\n",
        "      <th></th>\n",
        "      <th></th>\n",
        "      <th></th>\n",
        "    </tr>\n",
        "  </thead>\n",
        "  <tbody>\n",
        "    <tr>\n",
        "      <th rowspan=\"3\" valign=\"top\">192.168.1.105</th>\n",
        "      <th>137.226.34.227</th>\n",
        "      <th>80</th>\n",
        "      <td> 1888380</td>\n",
        "      <td> 127030608</td>\n",
        "      <td> 125142228</td>\n",
        "    </tr>\n",
        "    <tr>\n",
        "      <th>65.54.95.7</th>\n",
        "      <th>80</th>\n",
        "      <td>  647104</td>\n",
        "      <td>  79579509</td>\n",
        "      <td>  78932405</td>\n",
        "    </tr>\n",
        "    <tr>\n",
        "      <th>65.54.95.201</th>\n",
        "      <th>80</th>\n",
        "      <td>  194283</td>\n",
        "      <td>  27386115</td>\n",
        "      <td>  27191832</td>\n",
        "    </tr>\n",
        "  </tbody>\n",
        "</table>\n",
        "<p>3 rows \u00d7 3 columns</p>\n",
        "</div>"
       ],
       "metadata": {},
       "output_type": "pyout",
       "prompt_number": 73,
       "text": [
        "                                              c2s     ip.len        s2c\n",
        "ip.cli        ip.srv         tcp.srvport                               \n",
        "192.168.1.105 137.226.34.227 80           1888380  127030608  125142228\n",
        "              65.54.95.7     80            647104   79579509   78932405\n",
        "              65.54.95.201   80            194283   27386115   27191832\n",
        "\n",
        "[3 rows x 3 columns]"
       ]
      }
     ],
     "prompt_number": 73
    },
    {
     "cell_type": "markdown",
     "metadata": {
      "internals": {
       "frag_helper": "fragment_end",
       "frag_number": 6
      },
      "slideshow": {
       "slide_type": "subslide"
      }
     },
     "source": [
      "Now, filter the original choosing only rows in the top 3:"
     ]
    },
    {
     "cell_type": "code",
     "collapsed": false,
     "input": [
      "cst = pdf.set_index(['ip.cli', 'ip.srv', 'tcp.srvport'])"
     ],
     "language": "python",
     "metadata": {},
     "outputs": [],
     "prompt_number": 74
    },
    {
     "cell_type": "code",
     "collapsed": false,
     "input": [
      "cst_top = (cst[cst.index.isin(top.index)]\n",
      "            .ix[:,['frame.time_epoch', 'ip.len']])\n",
      "cst_top[:10]"
     ],
     "language": "python",
     "metadata": {
      "internals": {
       "frag_helper": "fragment_end",
       "frag_number": 6
      },
      "slideshow": {
       "slide_type": "-"
      }
     },
     "outputs": [
      {
       "html": [
        "<div style=\"max-height:1000px;max-width:1500px;overflow:auto;\">\n",
        "<table border=\"1\" class=\"dataframe\">\n",
        "  <thead>\n",
        "    <tr style=\"text-align: right;\">\n",
        "      <th></th>\n",
        "      <th></th>\n",
        "      <th></th>\n",
        "      <th>frame.time_epoch</th>\n",
        "      <th>ip.len</th>\n",
        "    </tr>\n",
        "    <tr>\n",
        "      <th>ip.cli</th>\n",
        "      <th>ip.srv</th>\n",
        "      <th>tcp.srvport</th>\n",
        "      <th></th>\n",
        "      <th></th>\n",
        "    </tr>\n",
        "  </thead>\n",
        "  <tbody>\n",
        "    <tr>\n",
        "      <th rowspan=\"10\" valign=\"top\">192.168.1.105</th>\n",
        "      <th rowspan=\"10\" valign=\"top\">137.226.34.227</th>\n",
        "      <th>80</th>\n",
        "      <td> 2009-11-18 17:35:54.369201-08:00</td>\n",
        "      <td> 1420</td>\n",
        "    </tr>\n",
        "    <tr>\n",
        "      <th>80</th>\n",
        "      <td> 2009-11-18 17:35:54.369434-08:00</td>\n",
        "      <td> 1420</td>\n",
        "    </tr>\n",
        "    <tr>\n",
        "      <th>80</th>\n",
        "      <td> 2009-11-18 17:35:54.369655-08:00</td>\n",
        "      <td>   40</td>\n",
        "    </tr>\n",
        "    <tr>\n",
        "      <th>80</th>\n",
        "      <td> 2009-11-18 17:35:54.369702-08:00</td>\n",
        "      <td> 1420</td>\n",
        "    </tr>\n",
        "    <tr>\n",
        "      <th>80</th>\n",
        "      <td> 2009-11-18 17:35:54.369713-08:00</td>\n",
        "      <td> 1420</td>\n",
        "    </tr>\n",
        "    <tr>\n",
        "      <th>80</th>\n",
        "      <td> 2009-11-18 17:35:54.369723-08:00</td>\n",
        "      <td> 1332</td>\n",
        "    </tr>\n",
        "    <tr>\n",
        "      <th>80</th>\n",
        "      <td> 2009-11-18 17:35:54.369733-08:00</td>\n",
        "      <td> 1420</td>\n",
        "    </tr>\n",
        "    <tr>\n",
        "      <th>80</th>\n",
        "      <td> 2009-11-18 17:35:54.369896-08:00</td>\n",
        "      <td>   40</td>\n",
        "    </tr>\n",
        "    <tr>\n",
        "      <th>80</th>\n",
        "      <td> 2009-11-18 17:35:54.369947-08:00</td>\n",
        "      <td> 1420</td>\n",
        "    </tr>\n",
        "    <tr>\n",
        "      <th>80</th>\n",
        "      <td> 2009-11-18 17:35:54.369986-08:00</td>\n",
        "      <td> 1420</td>\n",
        "    </tr>\n",
        "  </tbody>\n",
        "</table>\n",
        "<p>10 rows \u00d7 2 columns</p>\n",
        "</div>"
       ],
       "metadata": {},
       "output_type": "pyout",
       "prompt_number": 75,
       "text": [
        "                                                          frame.time_epoch  \\\n",
        "ip.cli        ip.srv         tcp.srvport                                     \n",
        "192.168.1.105 137.226.34.227 80           2009-11-18 17:35:54.369201-08:00   \n",
        "                             80           2009-11-18 17:35:54.369434-08:00   \n",
        "                             80           2009-11-18 17:35:54.369655-08:00   \n",
        "                             80           2009-11-18 17:35:54.369702-08:00   \n",
        "                             80           2009-11-18 17:35:54.369713-08:00   \n",
        "                             80           2009-11-18 17:35:54.369723-08:00   \n",
        "                             80           2009-11-18 17:35:54.369733-08:00   \n",
        "                             80           2009-11-18 17:35:54.369896-08:00   \n",
        "                             80           2009-11-18 17:35:54.369947-08:00   \n",
        "                             80           2009-11-18 17:35:54.369986-08:00   \n",
        "\n",
        "                                          ip.len  \n",
        "ip.cli        ip.srv         tcp.srvport          \n",
        "192.168.1.105 137.226.34.227 80             1420  \n",
        "                             80             1420  \n",
        "                             80               40  \n",
        "                             80             1420  \n",
        "                             80             1420  \n",
        "                             80             1332  \n",
        "                             80             1420  \n",
        "                             80               40  \n",
        "                             80             1420  \n",
        "                             80             1420  \n",
        "\n",
        "[10 rows x 2 columns]"
       ]
      }
     ],
     "prompt_number": 75
    },
    {
     "cell_type": "markdown",
     "metadata": {
      "slideshow": {
       "slide_type": "slide"
      }
     },
     "source": [
      "Rollup the results into 1 second intervals"
     ]
    },
    {
     "cell_type": "code",
     "collapsed": false,
     "input": [
      "cst_top_time = (cst_top.reset_index()\n",
      "                       .set_index(['frame.time_epoch', 'ip.cli', 'ip.srv', 'tcp.srvport'])\n",
      "                       .unstack(['ip.cli', 'ip.srv', 'tcp.srvport'])\n",
      "                       .resample('1s','sum')\n",
      "                       .fillna(0))"
     ],
     "language": "python",
     "metadata": {
      "internals": {
       "frag_helper": "fragment_end",
       "frag_number": 6
      },
      "slideshow": {
       "slide_type": "-"
      }
     },
     "outputs": [],
     "prompt_number": 76
    },
    {
     "cell_type": "code",
     "collapsed": false,
     "input": [
      "cst_top_time.plot()"
     ],
     "language": "python",
     "metadata": {
      "internals": {
       "frag_helper": "fragment_end",
       "frag_number": 6
      },
      "slideshow": {
       "slide_type": "-"
      }
     },
     "outputs": [
      {
       "metadata": {},
       "output_type": "pyout",
       "prompt_number": 77,
       "text": [
        "<matplotlib.axes.AxesSubplot at 0x121281190>"
       ]
      },
      {
       "metadata": {},
       "output_type": "display_data",
       "png": "[encoded data removed]",
       "text": [
        "<matplotlib.figure.Figure at 0x116f4bf50>"
       ]
      }
     ],
     "prompt_number": 77
    },
    {
     "cell_type": "markdown",
     "metadata": {
      "slideshow": {
       "slide_type": "slide"
      }
     },
     "source": [
      "Questons?\n",
      "=========\n",
      "\n",
      "Presentation available online:\n",
      "\n",
      "* https://support.riverbed.com/apis/steelscript/SharkFest2014.slides.html\n",
      "\n",
      "SteelScript for Python:\n",
      "\n",
      "* https://support.riverbed.com/apis/steelscript/index.html\n"
     ]
    }
   ],
   "metadata": {}
  }
 ]
}